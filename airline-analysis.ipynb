{
 "cells": [
  {
   "cell_type": "markdown",
   "id": "fbf39b54",
   "metadata": {
    "papermill": {
     "duration": 0.008987,
     "end_time": "2023-09-24T15:48:51.315679",
     "exception": false,
     "start_time": "2023-09-24T15:48:51.306692",
     "status": "completed"
    },
    "tags": []
   },
   "source": [
    "# Import Library"
   ]
  },
  {
   "cell_type": "code",
   "execution_count": 1,
   "id": "a9ffed6c",
   "metadata": {
    "execution": {
     "iopub.execute_input": "2023-09-24T15:48:51.335261Z",
     "iopub.status.busy": "2023-09-24T15:48:51.334715Z",
     "iopub.status.idle": "2023-09-24T15:48:52.990504Z",
     "shell.execute_reply": "2023-09-24T15:48:52.989472Z"
    },
    "papermill": {
     "duration": 1.668315,
     "end_time": "2023-09-24T15:48:52.992767",
     "exception": false,
     "start_time": "2023-09-24T15:48:51.324452",
     "status": "completed"
    },
    "tags": []
   },
   "outputs": [],
   "source": [
    "import numpy as np\n",
    "import pandas as pd\n",
    "import seaborn as sns\n",
    "import matplotlib.pyplot as plt"
   ]
  },
  {
   "cell_type": "markdown",
   "id": "bad81a58",
   "metadata": {
    "papermill": {
     "duration": 0.009294,
     "end_time": "2023-09-24T15:48:53.011069",
     "exception": false,
     "start_time": "2023-09-24T15:48:53.001775",
     "status": "completed"
    },
    "tags": []
   },
   "source": [
    "# Import Data"
   ]
  },
  {
   "cell_type": "code",
   "execution_count": 2,
   "id": "9b14bb5d",
   "metadata": {
    "execution": {
     "iopub.execute_input": "2023-09-24T15:48:53.030785Z",
     "iopub.status.busy": "2023-09-24T15:48:53.029802Z",
     "iopub.status.idle": "2023-09-24T15:48:53.504918Z",
     "shell.execute_reply": "2023-09-24T15:48:53.503730Z"
    },
    "papermill": {
     "duration": 0.487053,
     "end_time": "2023-09-24T15:48:53.507081",
     "exception": false,
     "start_time": "2023-09-24T15:48:53.020028",
     "status": "completed"
    },
    "tags": []
   },
   "outputs": [],
   "source": [
    "df = pd.read_csv('/kaggle/input/airline-dataset/Airline Dataset Updated.csv')"
   ]
  },
  {
   "cell_type": "markdown",
   "id": "8223bc24",
   "metadata": {
    "papermill": {
     "duration": 0.008192,
     "end_time": "2023-09-24T15:48:53.523933",
     "exception": false,
     "start_time": "2023-09-24T15:48:53.515741",
     "status": "completed"
    },
    "tags": []
   },
   "source": [
    "# Exploration Data"
   ]
  },
  {
   "cell_type": "code",
   "execution_count": 3,
   "id": "a9e3af81",
   "metadata": {
    "execution": {
     "iopub.execute_input": "2023-09-24T15:48:53.542775Z",
     "iopub.status.busy": "2023-09-24T15:48:53.542396Z",
     "iopub.status.idle": "2023-09-24T15:48:53.568195Z",
     "shell.execute_reply": "2023-09-24T15:48:53.566938Z"
    },
    "papermill": {
     "duration": 0.037802,
     "end_time": "2023-09-24T15:48:53.570126",
     "exception": false,
     "start_time": "2023-09-24T15:48:53.532324",
     "status": "completed"
    },
    "tags": []
   },
   "outputs": [
    {
     "data": {
      "text/html": [
       "<div>\n",
       "<style scoped>\n",
       "    .dataframe tbody tr th:only-of-type {\n",
       "        vertical-align: middle;\n",
       "    }\n",
       "\n",
       "    .dataframe tbody tr th {\n",
       "        vertical-align: top;\n",
       "    }\n",
       "\n",
       "    .dataframe thead th {\n",
       "        text-align: right;\n",
       "    }\n",
       "</style>\n",
       "<table border=\"1\" class=\"dataframe\">\n",
       "  <thead>\n",
       "    <tr style=\"text-align: right;\">\n",
       "      <th></th>\n",
       "      <th>Passenger ID</th>\n",
       "      <th>First Name</th>\n",
       "      <th>Last Name</th>\n",
       "      <th>Gender</th>\n",
       "      <th>Age</th>\n",
       "      <th>Nationality</th>\n",
       "      <th>Airport Name</th>\n",
       "      <th>Airport Country Code</th>\n",
       "      <th>Country Name</th>\n",
       "      <th>Airport Continent</th>\n",
       "      <th>Continents</th>\n",
       "      <th>Departure Date</th>\n",
       "      <th>Arrival Airport</th>\n",
       "      <th>Pilot Name</th>\n",
       "      <th>Flight Status</th>\n",
       "    </tr>\n",
       "  </thead>\n",
       "  <tbody>\n",
       "    <tr>\n",
       "      <th>0</th>\n",
       "      <td>ABVWIg</td>\n",
       "      <td>Edithe</td>\n",
       "      <td>Leggis</td>\n",
       "      <td>Female</td>\n",
       "      <td>62</td>\n",
       "      <td>Japan</td>\n",
       "      <td>Coldfoot Airport</td>\n",
       "      <td>US</td>\n",
       "      <td>United States</td>\n",
       "      <td>NAM</td>\n",
       "      <td>North America</td>\n",
       "      <td>6/28/2022</td>\n",
       "      <td>CXF</td>\n",
       "      <td>Edithe Leggis</td>\n",
       "      <td>On Time</td>\n",
       "    </tr>\n",
       "    <tr>\n",
       "      <th>1</th>\n",
       "      <td>jkXXAX</td>\n",
       "      <td>Elwood</td>\n",
       "      <td>Catt</td>\n",
       "      <td>Male</td>\n",
       "      <td>62</td>\n",
       "      <td>Nicaragua</td>\n",
       "      <td>Kugluktuk Airport</td>\n",
       "      <td>CA</td>\n",
       "      <td>Canada</td>\n",
       "      <td>NAM</td>\n",
       "      <td>North America</td>\n",
       "      <td>12/26/2022</td>\n",
       "      <td>YCO</td>\n",
       "      <td>Elwood Catt</td>\n",
       "      <td>On Time</td>\n",
       "    </tr>\n",
       "    <tr>\n",
       "      <th>2</th>\n",
       "      <td>CdUz2g</td>\n",
       "      <td>Darby</td>\n",
       "      <td>Felgate</td>\n",
       "      <td>Male</td>\n",
       "      <td>67</td>\n",
       "      <td>Russia</td>\n",
       "      <td>Grenoble-Isère Airport</td>\n",
       "      <td>FR</td>\n",
       "      <td>France</td>\n",
       "      <td>EU</td>\n",
       "      <td>Europe</td>\n",
       "      <td>1/18/2022</td>\n",
       "      <td>GNB</td>\n",
       "      <td>Darby Felgate</td>\n",
       "      <td>On Time</td>\n",
       "    </tr>\n",
       "    <tr>\n",
       "      <th>3</th>\n",
       "      <td>BRS38V</td>\n",
       "      <td>Dominica</td>\n",
       "      <td>Pyle</td>\n",
       "      <td>Female</td>\n",
       "      <td>71</td>\n",
       "      <td>China</td>\n",
       "      <td>Ottawa / Gatineau Airport</td>\n",
       "      <td>CA</td>\n",
       "      <td>Canada</td>\n",
       "      <td>NAM</td>\n",
       "      <td>North America</td>\n",
       "      <td>9/16/2022</td>\n",
       "      <td>YND</td>\n",
       "      <td>Dominica Pyle</td>\n",
       "      <td>Delayed</td>\n",
       "    </tr>\n",
       "    <tr>\n",
       "      <th>4</th>\n",
       "      <td>9kvTLo</td>\n",
       "      <td>Bay</td>\n",
       "      <td>Pencost</td>\n",
       "      <td>Male</td>\n",
       "      <td>21</td>\n",
       "      <td>China</td>\n",
       "      <td>Gillespie Field</td>\n",
       "      <td>US</td>\n",
       "      <td>United States</td>\n",
       "      <td>NAM</td>\n",
       "      <td>North America</td>\n",
       "      <td>2/25/2022</td>\n",
       "      <td>SEE</td>\n",
       "      <td>Bay Pencost</td>\n",
       "      <td>On Time</td>\n",
       "    </tr>\n",
       "  </tbody>\n",
       "</table>\n",
       "</div>"
      ],
      "text/plain": [
       "  Passenger ID First Name Last Name  Gender  Age Nationality  \\\n",
       "0       ABVWIg     Edithe    Leggis  Female   62       Japan   \n",
       "1       jkXXAX     Elwood      Catt    Male   62   Nicaragua   \n",
       "2       CdUz2g      Darby   Felgate    Male   67      Russia   \n",
       "3       BRS38V   Dominica      Pyle  Female   71       China   \n",
       "4       9kvTLo        Bay   Pencost    Male   21       China   \n",
       "\n",
       "                Airport Name Airport Country Code   Country Name  \\\n",
       "0           Coldfoot Airport                   US  United States   \n",
       "1          Kugluktuk Airport                   CA         Canada   \n",
       "2     Grenoble-Isère Airport                   FR         France   \n",
       "3  Ottawa / Gatineau Airport                   CA         Canada   \n",
       "4            Gillespie Field                   US  United States   \n",
       "\n",
       "  Airport Continent     Continents Departure Date Arrival Airport  \\\n",
       "0               NAM  North America      6/28/2022             CXF   \n",
       "1               NAM  North America     12/26/2022             YCO   \n",
       "2                EU         Europe      1/18/2022             GNB   \n",
       "3               NAM  North America      9/16/2022             YND   \n",
       "4               NAM  North America      2/25/2022             SEE   \n",
       "\n",
       "      Pilot Name Flight Status  \n",
       "0  Edithe Leggis       On Time  \n",
       "1    Elwood Catt       On Time  \n",
       "2  Darby Felgate       On Time  \n",
       "3  Dominica Pyle       Delayed  \n",
       "4    Bay Pencost       On Time  "
      ]
     },
     "execution_count": 3,
     "metadata": {},
     "output_type": "execute_result"
    }
   ],
   "source": [
    "df.head()"
   ]
  },
  {
   "cell_type": "code",
   "execution_count": 4,
   "id": "703fe509",
   "metadata": {
    "execution": {
     "iopub.execute_input": "2023-09-24T15:48:53.590214Z",
     "iopub.status.busy": "2023-09-24T15:48:53.589194Z",
     "iopub.status.idle": "2023-09-24T15:48:53.604966Z",
     "shell.execute_reply": "2023-09-24T15:48:53.603979Z"
    },
    "papermill": {
     "duration": 0.027996,
     "end_time": "2023-09-24T15:48:53.606982",
     "exception": false,
     "start_time": "2023-09-24T15:48:53.578986",
     "status": "completed"
    },
    "tags": []
   },
   "outputs": [
    {
     "data": {
      "text/html": [
       "<div>\n",
       "<style scoped>\n",
       "    .dataframe tbody tr th:only-of-type {\n",
       "        vertical-align: middle;\n",
       "    }\n",
       "\n",
       "    .dataframe tbody tr th {\n",
       "        vertical-align: top;\n",
       "    }\n",
       "\n",
       "    .dataframe thead th {\n",
       "        text-align: right;\n",
       "    }\n",
       "</style>\n",
       "<table border=\"1\" class=\"dataframe\">\n",
       "  <thead>\n",
       "    <tr style=\"text-align: right;\">\n",
       "      <th></th>\n",
       "      <th>Passenger ID</th>\n",
       "      <th>First Name</th>\n",
       "      <th>Last Name</th>\n",
       "      <th>Gender</th>\n",
       "      <th>Age</th>\n",
       "      <th>Nationality</th>\n",
       "      <th>Airport Name</th>\n",
       "      <th>Airport Country Code</th>\n",
       "      <th>Country Name</th>\n",
       "      <th>Airport Continent</th>\n",
       "      <th>Continents</th>\n",
       "      <th>Departure Date</th>\n",
       "      <th>Arrival Airport</th>\n",
       "      <th>Pilot Name</th>\n",
       "      <th>Flight Status</th>\n",
       "    </tr>\n",
       "  </thead>\n",
       "  <tbody>\n",
       "    <tr>\n",
       "      <th>98614</th>\n",
       "      <td>hnGQ62</td>\n",
       "      <td>Gareth</td>\n",
       "      <td>Mugford</td>\n",
       "      <td>Male</td>\n",
       "      <td>85</td>\n",
       "      <td>China</td>\n",
       "      <td>Hasvik Airport</td>\n",
       "      <td>NO</td>\n",
       "      <td>Norway</td>\n",
       "      <td>EU</td>\n",
       "      <td>Europe</td>\n",
       "      <td>12/11/2022</td>\n",
       "      <td>HAA</td>\n",
       "      <td>Gareth Mugford</td>\n",
       "      <td>Cancelled</td>\n",
       "    </tr>\n",
       "    <tr>\n",
       "      <th>98615</th>\n",
       "      <td>2omEzh</td>\n",
       "      <td>Kasey</td>\n",
       "      <td>Benedict</td>\n",
       "      <td>Female</td>\n",
       "      <td>19</td>\n",
       "      <td>Russia</td>\n",
       "      <td>Ampampamena Airport</td>\n",
       "      <td>MG</td>\n",
       "      <td>Madagascar</td>\n",
       "      <td>AF</td>\n",
       "      <td>Africa</td>\n",
       "      <td>10/30/2022</td>\n",
       "      <td>IVA</td>\n",
       "      <td>Kasey Benedict</td>\n",
       "      <td>Cancelled</td>\n",
       "    </tr>\n",
       "    <tr>\n",
       "      <th>98616</th>\n",
       "      <td>VUPiVG</td>\n",
       "      <td>Darrin</td>\n",
       "      <td>Lucken</td>\n",
       "      <td>Male</td>\n",
       "      <td>65</td>\n",
       "      <td>Indonesia</td>\n",
       "      <td>Albacete-Los Llanos Airport</td>\n",
       "      <td>ES</td>\n",
       "      <td>Spain</td>\n",
       "      <td>EU</td>\n",
       "      <td>Europe</td>\n",
       "      <td>9/10/2022</td>\n",
       "      <td>ABC</td>\n",
       "      <td>Darrin Lucken</td>\n",
       "      <td>On Time</td>\n",
       "    </tr>\n",
       "    <tr>\n",
       "      <th>98617</th>\n",
       "      <td>E47NtS</td>\n",
       "      <td>Gayle</td>\n",
       "      <td>Lievesley</td>\n",
       "      <td>Female</td>\n",
       "      <td>34</td>\n",
       "      <td>China</td>\n",
       "      <td>Gagnoa Airport</td>\n",
       "      <td>CI</td>\n",
       "      <td>Côte d'Ivoire</td>\n",
       "      <td>AF</td>\n",
       "      <td>Africa</td>\n",
       "      <td>10/26/2022</td>\n",
       "      <td>GGN</td>\n",
       "      <td>Gayle Lievesley</td>\n",
       "      <td>Cancelled</td>\n",
       "    </tr>\n",
       "    <tr>\n",
       "      <th>98618</th>\n",
       "      <td>8JYEcz</td>\n",
       "      <td>Wilhelmine</td>\n",
       "      <td>Touret</td>\n",
       "      <td>Female</td>\n",
       "      <td>10</td>\n",
       "      <td>Poland</td>\n",
       "      <td>Yoshkar-Ola Airport</td>\n",
       "      <td>RU</td>\n",
       "      <td>Russian Federation</td>\n",
       "      <td>EU</td>\n",
       "      <td>Europe</td>\n",
       "      <td>4/16/2022</td>\n",
       "      <td>JOK</td>\n",
       "      <td>Wilhelmine Touret</td>\n",
       "      <td>Delayed</td>\n",
       "    </tr>\n",
       "  </tbody>\n",
       "</table>\n",
       "</div>"
      ],
      "text/plain": [
       "      Passenger ID  First Name  Last Name  Gender  Age Nationality  \\\n",
       "98614       hnGQ62      Gareth    Mugford    Male   85       China   \n",
       "98615       2omEzh       Kasey   Benedict  Female   19      Russia   \n",
       "98616       VUPiVG      Darrin     Lucken    Male   65   Indonesia   \n",
       "98617       E47NtS       Gayle  Lievesley  Female   34       China   \n",
       "98618       8JYEcz  Wilhelmine     Touret  Female   10      Poland   \n",
       "\n",
       "                      Airport Name Airport Country Code        Country Name  \\\n",
       "98614               Hasvik Airport                   NO              Norway   \n",
       "98615          Ampampamena Airport                   MG          Madagascar   \n",
       "98616  Albacete-Los Llanos Airport                   ES               Spain   \n",
       "98617               Gagnoa Airport                   CI       Côte d'Ivoire   \n",
       "98618          Yoshkar-Ola Airport                   RU  Russian Federation   \n",
       "\n",
       "      Airport Continent Continents Departure Date Arrival Airport  \\\n",
       "98614                EU     Europe     12/11/2022             HAA   \n",
       "98615                AF     Africa     10/30/2022             IVA   \n",
       "98616                EU     Europe      9/10/2022             ABC   \n",
       "98617                AF     Africa     10/26/2022             GGN   \n",
       "98618                EU     Europe      4/16/2022             JOK   \n",
       "\n",
       "              Pilot Name Flight Status  \n",
       "98614     Gareth Mugford     Cancelled  \n",
       "98615     Kasey Benedict     Cancelled  \n",
       "98616      Darrin Lucken       On Time  \n",
       "98617    Gayle Lievesley     Cancelled  \n",
       "98618  Wilhelmine Touret       Delayed  "
      ]
     },
     "execution_count": 4,
     "metadata": {},
     "output_type": "execute_result"
    }
   ],
   "source": [
    "df.tail()"
   ]
  },
  {
   "cell_type": "code",
   "execution_count": 5,
   "id": "0fc0dfd5",
   "metadata": {
    "execution": {
     "iopub.execute_input": "2023-09-24T15:48:53.627799Z",
     "iopub.status.busy": "2023-09-24T15:48:53.627443Z",
     "iopub.status.idle": "2023-09-24T15:48:53.697352Z",
     "shell.execute_reply": "2023-09-24T15:48:53.696468Z"
    },
    "papermill": {
     "duration": 0.083114,
     "end_time": "2023-09-24T15:48:53.699210",
     "exception": false,
     "start_time": "2023-09-24T15:48:53.616096",
     "status": "completed"
    },
    "tags": []
   },
   "outputs": [
    {
     "name": "stdout",
     "output_type": "stream",
     "text": [
      "<class 'pandas.core.frame.DataFrame'>\n",
      "RangeIndex: 98619 entries, 0 to 98618\n",
      "Data columns (total 15 columns):\n",
      " #   Column                Non-Null Count  Dtype \n",
      "---  ------                --------------  ----- \n",
      " 0   Passenger ID          98619 non-null  object\n",
      " 1   First Name            98619 non-null  object\n",
      " 2   Last Name             98619 non-null  object\n",
      " 3   Gender                98619 non-null  object\n",
      " 4   Age                   98619 non-null  int64 \n",
      " 5   Nationality           98619 non-null  object\n",
      " 6   Airport Name          98619 non-null  object\n",
      " 7   Airport Country Code  98619 non-null  object\n",
      " 8   Country Name          98619 non-null  object\n",
      " 9   Airport Continent     98619 non-null  object\n",
      " 10  Continents            98619 non-null  object\n",
      " 11  Departure Date        98619 non-null  object\n",
      " 12  Arrival Airport       98619 non-null  object\n",
      " 13  Pilot Name            98619 non-null  object\n",
      " 14  Flight Status         98619 non-null  object\n",
      "dtypes: int64(1), object(14)\n",
      "memory usage: 11.3+ MB\n"
     ]
    }
   ],
   "source": [
    "df.info()"
   ]
  },
  {
   "cell_type": "code",
   "execution_count": 6,
   "id": "1bf41cc1",
   "metadata": {
    "execution": {
     "iopub.execute_input": "2023-09-24T15:48:53.720780Z",
     "iopub.status.busy": "2023-09-24T15:48:53.719925Z",
     "iopub.status.idle": "2023-09-24T15:48:53.726026Z",
     "shell.execute_reply": "2023-09-24T15:48:53.725136Z"
    },
    "papermill": {
     "duration": 0.019314,
     "end_time": "2023-09-24T15:48:53.728387",
     "exception": false,
     "start_time": "2023-09-24T15:48:53.709073",
     "status": "completed"
    },
    "tags": []
   },
   "outputs": [
    {
     "data": {
      "text/plain": [
       "(98619, 15)"
      ]
     },
     "execution_count": 6,
     "metadata": {},
     "output_type": "execute_result"
    }
   ],
   "source": [
    "df.shape"
   ]
  },
  {
   "cell_type": "code",
   "execution_count": 7,
   "id": "24717838",
   "metadata": {
    "execution": {
     "iopub.execute_input": "2023-09-24T15:48:53.749967Z",
     "iopub.status.busy": "2023-09-24T15:48:53.749602Z",
     "iopub.status.idle": "2023-09-24T15:48:53.890516Z",
     "shell.execute_reply": "2023-09-24T15:48:53.889322Z"
    },
    "papermill": {
     "duration": 0.154363,
     "end_time": "2023-09-24T15:48:53.892221",
     "exception": false,
     "start_time": "2023-09-24T15:48:53.737858",
     "status": "completed"
    },
    "tags": []
   },
   "outputs": [
    {
     "data": {
      "text/plain": [
       "Passenger ID            98619\n",
       "First Name               8437\n",
       "Last Name               41658\n",
       "Gender                      2\n",
       "Age                        90\n",
       "Nationality               240\n",
       "Airport Name             9062\n",
       "Airport Country Code      235\n",
       "Country Name              235\n",
       "Airport Continent           6\n",
       "Continents                  6\n",
       "Departure Date            364\n",
       "Arrival Airport          9024\n",
       "Pilot Name              98610\n",
       "Flight Status               3\n",
       "dtype: int64"
      ]
     },
     "execution_count": 7,
     "metadata": {},
     "output_type": "execute_result"
    }
   ],
   "source": [
    "df.nunique()"
   ]
  },
  {
   "cell_type": "code",
   "execution_count": 8,
   "id": "3de77663",
   "metadata": {
    "execution": {
     "iopub.execute_input": "2023-09-24T15:48:53.913546Z",
     "iopub.status.busy": "2023-09-24T15:48:53.913158Z",
     "iopub.status.idle": "2023-09-24T15:48:53.962362Z",
     "shell.execute_reply": "2023-09-24T15:48:53.961680Z"
    },
    "papermill": {
     "duration": 0.061387,
     "end_time": "2023-09-24T15:48:53.964108",
     "exception": false,
     "start_time": "2023-09-24T15:48:53.902721",
     "status": "completed"
    },
    "tags": []
   },
   "outputs": [
    {
     "data": {
      "text/plain": [
       "Passenger ID            0\n",
       "First Name              0\n",
       "Last Name               0\n",
       "Gender                  0\n",
       "Age                     0\n",
       "Nationality             0\n",
       "Airport Name            0\n",
       "Airport Country Code    0\n",
       "Country Name            0\n",
       "Airport Continent       0\n",
       "Continents              0\n",
       "Departure Date          0\n",
       "Arrival Airport         0\n",
       "Pilot Name              0\n",
       "Flight Status           0\n",
       "dtype: int64"
      ]
     },
     "execution_count": 8,
     "metadata": {},
     "output_type": "execute_result"
    }
   ],
   "source": [
    "df.isna().sum()"
   ]
  },
  {
   "cell_type": "code",
   "execution_count": 9,
   "id": "3ade916f",
   "metadata": {
    "execution": {
     "iopub.execute_input": "2023-09-24T15:48:53.985720Z",
     "iopub.status.busy": "2023-09-24T15:48:53.984894Z",
     "iopub.status.idle": "2023-09-24T15:48:53.992141Z",
     "shell.execute_reply": "2023-09-24T15:48:53.990992Z"
    },
    "papermill": {
     "duration": 0.020262,
     "end_time": "2023-09-24T15:48:53.994082",
     "exception": false,
     "start_time": "2023-09-24T15:48:53.973820",
     "status": "completed"
    },
    "tags": []
   },
   "outputs": [
    {
     "data": {
      "text/plain": [
       "Passenger ID            object\n",
       "First Name              object\n",
       "Last Name               object\n",
       "Gender                  object\n",
       "Age                      int64\n",
       "Nationality             object\n",
       "Airport Name            object\n",
       "Airport Country Code    object\n",
       "Country Name            object\n",
       "Airport Continent       object\n",
       "Continents              object\n",
       "Departure Date          object\n",
       "Arrival Airport         object\n",
       "Pilot Name              object\n",
       "Flight Status           object\n",
       "dtype: object"
      ]
     },
     "execution_count": 9,
     "metadata": {},
     "output_type": "execute_result"
    }
   ],
   "source": [
    "df.dtypes"
   ]
  },
  {
   "cell_type": "markdown",
   "id": "3b1aa76f",
   "metadata": {
    "papermill": {
     "duration": 0.009238,
     "end_time": "2023-09-24T15:48:54.012697",
     "exception": false,
     "start_time": "2023-09-24T15:48:54.003459",
     "status": "completed"
    },
    "tags": []
   },
   "source": [
    "# Drop Duplicated (Columns OR Rows)"
   ]
  },
  {
   "cell_type": "code",
   "execution_count": 10,
   "id": "18a031b0",
   "metadata": {
    "execution": {
     "iopub.execute_input": "2023-09-24T15:48:54.088451Z",
     "iopub.status.busy": "2023-09-24T15:48:54.087890Z",
     "iopub.status.idle": "2023-09-24T15:48:54.091807Z",
     "shell.execute_reply": "2023-09-24T15:48:54.091113Z"
    },
    "papermill": {
     "duration": 0.016558,
     "end_time": "2023-09-24T15:48:54.093519",
     "exception": false,
     "start_time": "2023-09-24T15:48:54.076961",
     "status": "completed"
    },
    "tags": []
   },
   "outputs": [],
   "source": [
    "drop_col = []"
   ]
  },
  {
   "cell_type": "code",
   "execution_count": 11,
   "id": "8cc23b3c",
   "metadata": {
    "execution": {
     "iopub.execute_input": "2023-09-24T15:48:54.113989Z",
     "iopub.status.busy": "2023-09-24T15:48:54.113465Z",
     "iopub.status.idle": "2023-09-24T15:48:54.259549Z",
     "shell.execute_reply": "2023-09-24T15:48:54.258572Z"
    },
    "papermill": {
     "duration": 0.158264,
     "end_time": "2023-09-24T15:48:54.261273",
     "exception": false,
     "start_time": "2023-09-24T15:48:54.103009",
     "status": "completed"
    },
    "tags": []
   },
   "outputs": [
    {
     "data": {
      "text/plain": [
       "0"
      ]
     },
     "execution_count": 11,
     "metadata": {},
     "output_type": "execute_result"
    }
   ],
   "source": [
    "df.duplicated().sum()"
   ]
  },
  {
   "cell_type": "code",
   "execution_count": 12,
   "id": "11ce403d",
   "metadata": {
    "execution": {
     "iopub.execute_input": "2023-09-24T15:48:54.284002Z",
     "iopub.status.busy": "2023-09-24T15:48:54.282796Z",
     "iopub.status.idle": "2023-09-24T15:48:54.328391Z",
     "shell.execute_reply": "2023-09-24T15:48:54.327137Z"
    },
    "papermill": {
     "duration": 0.059213,
     "end_time": "2023-09-24T15:48:54.330388",
     "exception": false,
     "start_time": "2023-09-24T15:48:54.271175",
     "status": "completed"
    },
    "tags": []
   },
   "outputs": [
    {
     "name": "stdout",
     "output_type": "stream",
     "text": [
      "The Data is not Dublicate\n"
     ]
    }
   ],
   "source": [
    "duplicate = df[df[['First Name', 'Last Name', 'Nationality']].duplicated()]\n",
    "if duplicate.empty:\n",
    "    print('The Data is not Dublicate')\n",
    "else:\n",
    "    print('The Data is Dublicate')"
   ]
  },
  {
   "cell_type": "code",
   "execution_count": 13,
   "id": "1e00833a",
   "metadata": {
    "execution": {
     "iopub.execute_input": "2023-09-24T15:48:54.352444Z",
     "iopub.status.busy": "2023-09-24T15:48:54.351163Z",
     "iopub.status.idle": "2023-09-24T15:48:54.384423Z",
     "shell.execute_reply": "2023-09-24T15:48:54.383523Z"
    },
    "papermill": {
     "duration": 0.045992,
     "end_time": "2023-09-24T15:48:54.386312",
     "exception": false,
     "start_time": "2023-09-24T15:48:54.340320",
     "status": "completed"
    },
    "tags": []
   },
   "outputs": [
    {
     "data": {
      "text/html": [
       "<div>\n",
       "<style scoped>\n",
       "    .dataframe tbody tr th:only-of-type {\n",
       "        vertical-align: middle;\n",
       "    }\n",
       "\n",
       "    .dataframe tbody tr th {\n",
       "        vertical-align: top;\n",
       "    }\n",
       "\n",
       "    .dataframe thead th {\n",
       "        text-align: right;\n",
       "    }\n",
       "</style>\n",
       "<table border=\"1\" class=\"dataframe\">\n",
       "  <thead>\n",
       "    <tr style=\"text-align: right;\">\n",
       "      <th></th>\n",
       "      <th>Passenger ID</th>\n",
       "      <th>First Name</th>\n",
       "      <th>Last Name</th>\n",
       "      <th>Gender</th>\n",
       "      <th>Age</th>\n",
       "      <th>Nationality</th>\n",
       "      <th>Airport Name</th>\n",
       "      <th>Airport Country Code</th>\n",
       "      <th>Country Name</th>\n",
       "      <th>Airport Continent</th>\n",
       "      <th>Continents</th>\n",
       "      <th>Departure Date</th>\n",
       "      <th>Arrival Airport</th>\n",
       "      <th>Pilot Name</th>\n",
       "      <th>Flight Status</th>\n",
       "    </tr>\n",
       "  </thead>\n",
       "  <tbody>\n",
       "    <tr>\n",
       "      <th>0</th>\n",
       "      <td>ABVWIg</td>\n",
       "      <td>Edithe</td>\n",
       "      <td>Leggis</td>\n",
       "      <td>Female</td>\n",
       "      <td>62</td>\n",
       "      <td>Japan</td>\n",
       "      <td>Coldfoot Airport</td>\n",
       "      <td>US</td>\n",
       "      <td>United States</td>\n",
       "      <td>NAM</td>\n",
       "      <td>North America</td>\n",
       "      <td>6/28/2022</td>\n",
       "      <td>CXF</td>\n",
       "      <td>Edithe Leggis</td>\n",
       "      <td>On Time</td>\n",
       "    </tr>\n",
       "    <tr>\n",
       "      <th>2</th>\n",
       "      <td>CdUz2g</td>\n",
       "      <td>Darby</td>\n",
       "      <td>Felgate</td>\n",
       "      <td>Male</td>\n",
       "      <td>67</td>\n",
       "      <td>Russia</td>\n",
       "      <td>Grenoble-Isère Airport</td>\n",
       "      <td>FR</td>\n",
       "      <td>France</td>\n",
       "      <td>EU</td>\n",
       "      <td>Europe</td>\n",
       "      <td>1/18/2022</td>\n",
       "      <td>GNB</td>\n",
       "      <td>Darby Felgate</td>\n",
       "      <td>On Time</td>\n",
       "    </tr>\n",
       "    <tr>\n",
       "      <th>5</th>\n",
       "      <td>nMJKVh</td>\n",
       "      <td>Lora</td>\n",
       "      <td>Durbann</td>\n",
       "      <td>Female</td>\n",
       "      <td>55</td>\n",
       "      <td>Brazil</td>\n",
       "      <td>Coronel Horácio de Mattos Airport</td>\n",
       "      <td>BR</td>\n",
       "      <td>Brazil</td>\n",
       "      <td>SAM</td>\n",
       "      <td>South America</td>\n",
       "      <td>6/10/2022</td>\n",
       "      <td>LEC</td>\n",
       "      <td>Lora Durbann</td>\n",
       "      <td>On Time</td>\n",
       "    </tr>\n",
       "    <tr>\n",
       "      <th>12</th>\n",
       "      <td>PlwJZT</td>\n",
       "      <td>Kalie</td>\n",
       "      <td>Scoble</td>\n",
       "      <td>Female</td>\n",
       "      <td>47</td>\n",
       "      <td>Sweden</td>\n",
       "      <td>Loralai Airport</td>\n",
       "      <td>PK</td>\n",
       "      <td>Pakistan</td>\n",
       "      <td>AS</td>\n",
       "      <td>Asia</td>\n",
       "      <td>3/19/2022</td>\n",
       "      <td>LRG</td>\n",
       "      <td>Kalie Scoble</td>\n",
       "      <td>Delayed</td>\n",
       "    </tr>\n",
       "    <tr>\n",
       "      <th>13</th>\n",
       "      <td>iU75x3</td>\n",
       "      <td>Catriona</td>\n",
       "      <td>Beaument</td>\n",
       "      <td>Female</td>\n",
       "      <td>77</td>\n",
       "      <td>Russia</td>\n",
       "      <td>Cudal Airport</td>\n",
       "      <td>AU</td>\n",
       "      <td>Australia</td>\n",
       "      <td>OC</td>\n",
       "      <td>Oceania</td>\n",
       "      <td>3/24/2022</td>\n",
       "      <td>CUG</td>\n",
       "      <td>Catriona Beaument</td>\n",
       "      <td>Delayed</td>\n",
       "    </tr>\n",
       "    <tr>\n",
       "      <th>15</th>\n",
       "      <td>8qA80a</td>\n",
       "      <td>Dyna</td>\n",
       "      <td>De'Vere - Hunt</td>\n",
       "      <td>Female</td>\n",
       "      <td>22</td>\n",
       "      <td>China</td>\n",
       "      <td>Oudtshoorn Airport</td>\n",
       "      <td>ZA</td>\n",
       "      <td>South Africa</td>\n",
       "      <td>AF</td>\n",
       "      <td>Africa</td>\n",
       "      <td>7/18/2022</td>\n",
       "      <td>OUH</td>\n",
       "      <td>Dyna De'Vere - Hunt</td>\n",
       "      <td>Cancelled</td>\n",
       "    </tr>\n",
       "  </tbody>\n",
       "</table>\n",
       "</div>"
      ],
      "text/plain": [
       "   Passenger ID First Name       Last Name  Gender  Age Nationality  \\\n",
       "0        ABVWIg     Edithe          Leggis  Female   62       Japan   \n",
       "2        CdUz2g      Darby         Felgate    Male   67      Russia   \n",
       "5        nMJKVh       Lora         Durbann  Female   55      Brazil   \n",
       "12       PlwJZT      Kalie          Scoble  Female   47      Sweden   \n",
       "13       iU75x3   Catriona        Beaument  Female   77      Russia   \n",
       "15       8qA80a       Dyna  De'Vere - Hunt  Female   22       China   \n",
       "\n",
       "                         Airport Name Airport Country Code   Country Name  \\\n",
       "0                    Coldfoot Airport                   US  United States   \n",
       "2              Grenoble-Isère Airport                   FR         France   \n",
       "5   Coronel Horácio de Mattos Airport                   BR         Brazil   \n",
       "12                    Loralai Airport                   PK       Pakistan   \n",
       "13                      Cudal Airport                   AU      Australia   \n",
       "15                 Oudtshoorn Airport                   ZA   South Africa   \n",
       "\n",
       "   Airport Continent     Continents Departure Date Arrival Airport  \\\n",
       "0                NAM  North America      6/28/2022             CXF   \n",
       "2                 EU         Europe      1/18/2022             GNB   \n",
       "5                SAM  South America      6/10/2022             LEC   \n",
       "12                AS           Asia      3/19/2022             LRG   \n",
       "13                OC        Oceania      3/24/2022             CUG   \n",
       "15                AF         Africa      7/18/2022             OUH   \n",
       "\n",
       "             Pilot Name Flight Status  \n",
       "0         Edithe Leggis       On Time  \n",
       "2         Darby Felgate       On Time  \n",
       "5          Lora Durbann       On Time  \n",
       "12         Kalie Scoble       Delayed  \n",
       "13    Catriona Beaument       Delayed  \n",
       "15  Dyna De'Vere - Hunt     Cancelled  "
      ]
     },
     "execution_count": 13,
     "metadata": {},
     "output_type": "execute_result"
    }
   ],
   "source": [
    "df[~df[['Continents', 'Airport Continent']].duplicated()]"
   ]
  },
  {
   "cell_type": "code",
   "execution_count": 14,
   "id": "6c8e5461",
   "metadata": {
    "execution": {
     "iopub.execute_input": "2023-09-24T15:48:54.408990Z",
     "iopub.status.busy": "2023-09-24T15:48:54.407925Z",
     "iopub.status.idle": "2023-09-24T15:48:54.413497Z",
     "shell.execute_reply": "2023-09-24T15:48:54.412281Z"
    },
    "papermill": {
     "duration": 0.01915,
     "end_time": "2023-09-24T15:48:54.416071",
     "exception": false,
     "start_time": "2023-09-24T15:48:54.396921",
     "status": "completed"
    },
    "tags": []
   },
   "outputs": [],
   "source": [
    "drop_col.append('Airport Continent')"
   ]
  },
  {
   "cell_type": "code",
   "execution_count": 15,
   "id": "34dc9efe",
   "metadata": {
    "execution": {
     "iopub.execute_input": "2023-09-24T15:48:54.439191Z",
     "iopub.status.busy": "2023-09-24T15:48:54.438860Z",
     "iopub.status.idle": "2023-09-24T15:48:54.472457Z",
     "shell.execute_reply": "2023-09-24T15:48:54.471070Z"
    },
    "papermill": {
     "duration": 0.04771,
     "end_time": "2023-09-24T15:48:54.474861",
     "exception": false,
     "start_time": "2023-09-24T15:48:54.427151",
     "status": "completed"
    },
    "tags": []
   },
   "outputs": [
    {
     "data": {
      "text/html": [
       "<div>\n",
       "<style scoped>\n",
       "    .dataframe tbody tr th:only-of-type {\n",
       "        vertical-align: middle;\n",
       "    }\n",
       "\n",
       "    .dataframe tbody tr th {\n",
       "        vertical-align: top;\n",
       "    }\n",
       "\n",
       "    .dataframe thead th {\n",
       "        text-align: right;\n",
       "    }\n",
       "</style>\n",
       "<table border=\"1\" class=\"dataframe\">\n",
       "  <thead>\n",
       "    <tr style=\"text-align: right;\">\n",
       "      <th></th>\n",
       "      <th>Passenger ID</th>\n",
       "      <th>First Name</th>\n",
       "      <th>Last Name</th>\n",
       "      <th>Gender</th>\n",
       "      <th>Age</th>\n",
       "      <th>Nationality</th>\n",
       "      <th>Airport Name</th>\n",
       "      <th>Airport Country Code</th>\n",
       "      <th>Country Name</th>\n",
       "      <th>Airport Continent</th>\n",
       "      <th>Continents</th>\n",
       "      <th>Departure Date</th>\n",
       "      <th>Arrival Airport</th>\n",
       "      <th>Pilot Name</th>\n",
       "      <th>Flight Status</th>\n",
       "    </tr>\n",
       "  </thead>\n",
       "  <tbody>\n",
       "    <tr>\n",
       "      <th>0</th>\n",
       "      <td>ABVWIg</td>\n",
       "      <td>Edithe</td>\n",
       "      <td>Leggis</td>\n",
       "      <td>Female</td>\n",
       "      <td>62</td>\n",
       "      <td>Japan</td>\n",
       "      <td>Coldfoot Airport</td>\n",
       "      <td>US</td>\n",
       "      <td>United States</td>\n",
       "      <td>NAM</td>\n",
       "      <td>North America</td>\n",
       "      <td>6/28/2022</td>\n",
       "      <td>CXF</td>\n",
       "      <td>Edithe Leggis</td>\n",
       "      <td>On Time</td>\n",
       "    </tr>\n",
       "    <tr>\n",
       "      <th>1</th>\n",
       "      <td>jkXXAX</td>\n",
       "      <td>Elwood</td>\n",
       "      <td>Catt</td>\n",
       "      <td>Male</td>\n",
       "      <td>62</td>\n",
       "      <td>Nicaragua</td>\n",
       "      <td>Kugluktuk Airport</td>\n",
       "      <td>CA</td>\n",
       "      <td>Canada</td>\n",
       "      <td>NAM</td>\n",
       "      <td>North America</td>\n",
       "      <td>12/26/2022</td>\n",
       "      <td>YCO</td>\n",
       "      <td>Elwood Catt</td>\n",
       "      <td>On Time</td>\n",
       "    </tr>\n",
       "    <tr>\n",
       "      <th>2</th>\n",
       "      <td>CdUz2g</td>\n",
       "      <td>Darby</td>\n",
       "      <td>Felgate</td>\n",
       "      <td>Male</td>\n",
       "      <td>67</td>\n",
       "      <td>Russia</td>\n",
       "      <td>Grenoble-Isère Airport</td>\n",
       "      <td>FR</td>\n",
       "      <td>France</td>\n",
       "      <td>EU</td>\n",
       "      <td>Europe</td>\n",
       "      <td>1/18/2022</td>\n",
       "      <td>GNB</td>\n",
       "      <td>Darby Felgate</td>\n",
       "      <td>On Time</td>\n",
       "    </tr>\n",
       "    <tr>\n",
       "      <th>5</th>\n",
       "      <td>nMJKVh</td>\n",
       "      <td>Lora</td>\n",
       "      <td>Durbann</td>\n",
       "      <td>Female</td>\n",
       "      <td>55</td>\n",
       "      <td>Brazil</td>\n",
       "      <td>Coronel Horácio de Mattos Airport</td>\n",
       "      <td>BR</td>\n",
       "      <td>Brazil</td>\n",
       "      <td>SAM</td>\n",
       "      <td>South America</td>\n",
       "      <td>6/10/2022</td>\n",
       "      <td>LEC</td>\n",
       "      <td>Lora Durbann</td>\n",
       "      <td>On Time</td>\n",
       "    </tr>\n",
       "    <tr>\n",
       "      <th>6</th>\n",
       "      <td>8IPFPE</td>\n",
       "      <td>Rand</td>\n",
       "      <td>Bram</td>\n",
       "      <td>Male</td>\n",
       "      <td>73</td>\n",
       "      <td>Ivory Coast</td>\n",
       "      <td>Duxford Aerodrome</td>\n",
       "      <td>GB</td>\n",
       "      <td>United Kingdom</td>\n",
       "      <td>EU</td>\n",
       "      <td>Europe</td>\n",
       "      <td>10/30/2022</td>\n",
       "      <td>QFO</td>\n",
       "      <td>Rand Bram</td>\n",
       "      <td>Cancelled</td>\n",
       "    </tr>\n",
       "  </tbody>\n",
       "</table>\n",
       "</div>"
      ],
      "text/plain": [
       "  Passenger ID First Name Last Name  Gender  Age  Nationality  \\\n",
       "0       ABVWIg     Edithe    Leggis  Female   62        Japan   \n",
       "1       jkXXAX     Elwood      Catt    Male   62    Nicaragua   \n",
       "2       CdUz2g      Darby   Felgate    Male   67       Russia   \n",
       "5       nMJKVh       Lora   Durbann  Female   55       Brazil   \n",
       "6       8IPFPE       Rand      Bram    Male   73  Ivory Coast   \n",
       "\n",
       "                        Airport Name Airport Country Code    Country Name  \\\n",
       "0                   Coldfoot Airport                   US   United States   \n",
       "1                  Kugluktuk Airport                   CA          Canada   \n",
       "2             Grenoble-Isère Airport                   FR          France   \n",
       "5  Coronel Horácio de Mattos Airport                   BR          Brazil   \n",
       "6                  Duxford Aerodrome                   GB  United Kingdom   \n",
       "\n",
       "  Airport Continent     Continents Departure Date Arrival Airport  \\\n",
       "0               NAM  North America      6/28/2022             CXF   \n",
       "1               NAM  North America     12/26/2022             YCO   \n",
       "2                EU         Europe      1/18/2022             GNB   \n",
       "5               SAM  South America      6/10/2022             LEC   \n",
       "6                EU         Europe     10/30/2022             QFO   \n",
       "\n",
       "      Pilot Name Flight Status  \n",
       "0  Edithe Leggis       On Time  \n",
       "1    Elwood Catt       On Time  \n",
       "2  Darby Felgate       On Time  \n",
       "5   Lora Durbann       On Time  \n",
       "6      Rand Bram     Cancelled  "
      ]
     },
     "execution_count": 15,
     "metadata": {},
     "output_type": "execute_result"
    }
   ],
   "source": [
    "df[~df[['Airport Country Code', 'Country Name']].duplicated()].head()"
   ]
  },
  {
   "cell_type": "code",
   "execution_count": 16,
   "id": "cf7220a0",
   "metadata": {
    "execution": {
     "iopub.execute_input": "2023-09-24T15:48:54.497668Z",
     "iopub.status.busy": "2023-09-24T15:48:54.497282Z",
     "iopub.status.idle": "2023-09-24T15:48:54.526675Z",
     "shell.execute_reply": "2023-09-24T15:48:54.525513Z"
    },
    "papermill": {
     "duration": 0.043633,
     "end_time": "2023-09-24T15:48:54.529095",
     "exception": false,
     "start_time": "2023-09-24T15:48:54.485462",
     "status": "completed"
    },
    "tags": []
   },
   "outputs": [
    {
     "data": {
      "text/html": [
       "<div>\n",
       "<style scoped>\n",
       "    .dataframe tbody tr th:only-of-type {\n",
       "        vertical-align: middle;\n",
       "    }\n",
       "\n",
       "    .dataframe tbody tr th {\n",
       "        vertical-align: top;\n",
       "    }\n",
       "\n",
       "    .dataframe thead th {\n",
       "        text-align: right;\n",
       "    }\n",
       "</style>\n",
       "<table border=\"1\" class=\"dataframe\">\n",
       "  <thead>\n",
       "    <tr style=\"text-align: right;\">\n",
       "      <th></th>\n",
       "      <th>Passenger ID</th>\n",
       "      <th>First Name</th>\n",
       "      <th>Last Name</th>\n",
       "      <th>Gender</th>\n",
       "      <th>Age</th>\n",
       "      <th>Nationality</th>\n",
       "      <th>Airport Name</th>\n",
       "      <th>Airport Country Code</th>\n",
       "      <th>Country Name</th>\n",
       "      <th>Airport Continent</th>\n",
       "      <th>Continents</th>\n",
       "      <th>Departure Date</th>\n",
       "      <th>Arrival Airport</th>\n",
       "      <th>Pilot Name</th>\n",
       "      <th>Flight Status</th>\n",
       "    </tr>\n",
       "  </thead>\n",
       "  <tbody>\n",
       "    <tr>\n",
       "      <th>6</th>\n",
       "      <td>8IPFPE</td>\n",
       "      <td>Rand</td>\n",
       "      <td>Bram</td>\n",
       "      <td>Male</td>\n",
       "      <td>73</td>\n",
       "      <td>Ivory Coast</td>\n",
       "      <td>Duxford Aerodrome</td>\n",
       "      <td>GB</td>\n",
       "      <td>United Kingdom</td>\n",
       "      <td>EU</td>\n",
       "      <td>Europe</td>\n",
       "      <td>10/30/2022</td>\n",
       "      <td>QFO</td>\n",
       "      <td>Rand Bram</td>\n",
       "      <td>Cancelled</td>\n",
       "    </tr>\n",
       "    <tr>\n",
       "      <th>116</th>\n",
       "      <td>FExnPN</td>\n",
       "      <td>Reinaldo</td>\n",
       "      <td>Caines</td>\n",
       "      <td>Male</td>\n",
       "      <td>76</td>\n",
       "      <td>Indonesia</td>\n",
       "      <td>Newcastle Airport</td>\n",
       "      <td>GB</td>\n",
       "      <td>United Kingdom</td>\n",
       "      <td>EU</td>\n",
       "      <td>Europe</td>\n",
       "      <td>3/17/2022</td>\n",
       "      <td>NCL</td>\n",
       "      <td>Reinaldo Caines</td>\n",
       "      <td>On Time</td>\n",
       "    </tr>\n",
       "    <tr>\n",
       "      <th>236</th>\n",
       "      <td>6DqAX8</td>\n",
       "      <td>Fernando</td>\n",
       "      <td>Stuckes</td>\n",
       "      <td>Male</td>\n",
       "      <td>61</td>\n",
       "      <td>Mali</td>\n",
       "      <td>RAF Lyneham</td>\n",
       "      <td>GB</td>\n",
       "      <td>United Kingdom</td>\n",
       "      <td>EU</td>\n",
       "      <td>Europe</td>\n",
       "      <td>8/27/2022</td>\n",
       "      <td>LYE</td>\n",
       "      <td>Fernando Stuckes</td>\n",
       "      <td>Cancelled</td>\n",
       "    </tr>\n",
       "    <tr>\n",
       "      <th>261</th>\n",
       "      <td>BTvoJ7</td>\n",
       "      <td>Wilt</td>\n",
       "      <td>Reames</td>\n",
       "      <td>Male</td>\n",
       "      <td>3</td>\n",
       "      <td>China</td>\n",
       "      <td>RAF Wyton</td>\n",
       "      <td>GB</td>\n",
       "      <td>United Kingdom</td>\n",
       "      <td>EU</td>\n",
       "      <td>Europe</td>\n",
       "      <td>7/28/2022</td>\n",
       "      <td>QUY</td>\n",
       "      <td>Wilt Reames</td>\n",
       "      <td>On Time</td>\n",
       "    </tr>\n",
       "    <tr>\n",
       "      <th>335</th>\n",
       "      <td>PskI8w</td>\n",
       "      <td>Alaine</td>\n",
       "      <td>Ace</td>\n",
       "      <td>Female</td>\n",
       "      <td>39</td>\n",
       "      <td>Croatia</td>\n",
       "      <td>Coventry Airport</td>\n",
       "      <td>GB</td>\n",
       "      <td>United Kingdom</td>\n",
       "      <td>EU</td>\n",
       "      <td>Europe</td>\n",
       "      <td>6/21/2022</td>\n",
       "      <td>CVT</td>\n",
       "      <td>Alaine Ace</td>\n",
       "      <td>On Time</td>\n",
       "    </tr>\n",
       "    <tr>\n",
       "      <th>...</th>\n",
       "      <td>...</td>\n",
       "      <td>...</td>\n",
       "      <td>...</td>\n",
       "      <td>...</td>\n",
       "      <td>...</td>\n",
       "      <td>...</td>\n",
       "      <td>...</td>\n",
       "      <td>...</td>\n",
       "      <td>...</td>\n",
       "      <td>...</td>\n",
       "      <td>...</td>\n",
       "      <td>...</td>\n",
       "      <td>...</td>\n",
       "      <td>...</td>\n",
       "      <td>...</td>\n",
       "    </tr>\n",
       "    <tr>\n",
       "      <th>98341</th>\n",
       "      <td>lOw10J</td>\n",
       "      <td>Georges</td>\n",
       "      <td>Bricknall</td>\n",
       "      <td>Male</td>\n",
       "      <td>32</td>\n",
       "      <td>Croatia</td>\n",
       "      <td>Nottingham Airport</td>\n",
       "      <td>GB</td>\n",
       "      <td>United Kingdom</td>\n",
       "      <td>EU</td>\n",
       "      <td>Europe</td>\n",
       "      <td>12/3/2022</td>\n",
       "      <td>NQT</td>\n",
       "      <td>Georges Bricknall</td>\n",
       "      <td>On Time</td>\n",
       "    </tr>\n",
       "    <tr>\n",
       "      <th>98422</th>\n",
       "      <td>kz7Ire</td>\n",
       "      <td>Dore</td>\n",
       "      <td>Sisnett</td>\n",
       "      <td>Female</td>\n",
       "      <td>79</td>\n",
       "      <td>Portugal</td>\n",
       "      <td>Binbrook Airfield</td>\n",
       "      <td>GB</td>\n",
       "      <td>United Kingdom</td>\n",
       "      <td>EU</td>\n",
       "      <td>Europe</td>\n",
       "      <td>5/14/2022</td>\n",
       "      <td>GSY</td>\n",
       "      <td>Dore Sisnett</td>\n",
       "      <td>Cancelled</td>\n",
       "    </tr>\n",
       "    <tr>\n",
       "      <th>98444</th>\n",
       "      <td>wYMSBb</td>\n",
       "      <td>Toiboid</td>\n",
       "      <td>Spadazzi</td>\n",
       "      <td>Male</td>\n",
       "      <td>42</td>\n",
       "      <td>Sweden</td>\n",
       "      <td>RAF Benson</td>\n",
       "      <td>GB</td>\n",
       "      <td>United Kingdom</td>\n",
       "      <td>EU</td>\n",
       "      <td>Europe</td>\n",
       "      <td>10/22/2022</td>\n",
       "      <td>BEX</td>\n",
       "      <td>Toiboid Spadazzi</td>\n",
       "      <td>Cancelled</td>\n",
       "    </tr>\n",
       "    <tr>\n",
       "      <th>98576</th>\n",
       "      <td>l6cF1l</td>\n",
       "      <td>Clevey</td>\n",
       "      <td>Lowdyane</td>\n",
       "      <td>Male</td>\n",
       "      <td>72</td>\n",
       "      <td>Indonesia</td>\n",
       "      <td>RAF Scampton</td>\n",
       "      <td>GB</td>\n",
       "      <td>United Kingdom</td>\n",
       "      <td>EU</td>\n",
       "      <td>Europe</td>\n",
       "      <td>4/4/2022</td>\n",
       "      <td>SQZ</td>\n",
       "      <td>Clevey Lowdyane</td>\n",
       "      <td>On Time</td>\n",
       "    </tr>\n",
       "    <tr>\n",
       "      <th>98606</th>\n",
       "      <td>yVL4O3</td>\n",
       "      <td>Jessa</td>\n",
       "      <td>Bauldrey</td>\n",
       "      <td>Female</td>\n",
       "      <td>59</td>\n",
       "      <td>Philippines</td>\n",
       "      <td>Foula Airfield</td>\n",
       "      <td>GB</td>\n",
       "      <td>United Kingdom</td>\n",
       "      <td>EU</td>\n",
       "      <td>Europe</td>\n",
       "      <td>8/31/2022</td>\n",
       "      <td>FOA</td>\n",
       "      <td>Jessa Bauldrey</td>\n",
       "      <td>Cancelled</td>\n",
       "    </tr>\n",
       "  </tbody>\n",
       "</table>\n",
       "<p>1371 rows × 15 columns</p>\n",
       "</div>"
      ],
      "text/plain": [
       "      Passenger ID First Name  Last Name  Gender  Age  Nationality  \\\n",
       "6           8IPFPE       Rand       Bram    Male   73  Ivory Coast   \n",
       "116         FExnPN   Reinaldo     Caines    Male   76    Indonesia   \n",
       "236         6DqAX8   Fernando    Stuckes    Male   61         Mali   \n",
       "261         BTvoJ7       Wilt     Reames    Male    3        China   \n",
       "335         PskI8w     Alaine        Ace  Female   39      Croatia   \n",
       "...            ...        ...        ...     ...  ...          ...   \n",
       "98341       lOw10J    Georges  Bricknall    Male   32      Croatia   \n",
       "98422       kz7Ire       Dore    Sisnett  Female   79     Portugal   \n",
       "98444       wYMSBb    Toiboid   Spadazzi    Male   42       Sweden   \n",
       "98576       l6cF1l     Clevey   Lowdyane    Male   72    Indonesia   \n",
       "98606       yVL4O3      Jessa   Bauldrey  Female   59  Philippines   \n",
       "\n",
       "             Airport Name Airport Country Code    Country Name  \\\n",
       "6       Duxford Aerodrome                   GB  United Kingdom   \n",
       "116     Newcastle Airport                   GB  United Kingdom   \n",
       "236           RAF Lyneham                   GB  United Kingdom   \n",
       "261             RAF Wyton                   GB  United Kingdom   \n",
       "335      Coventry Airport                   GB  United Kingdom   \n",
       "...                   ...                  ...             ...   \n",
       "98341  Nottingham Airport                   GB  United Kingdom   \n",
       "98422   Binbrook Airfield                   GB  United Kingdom   \n",
       "98444          RAF Benson                   GB  United Kingdom   \n",
       "98576        RAF Scampton                   GB  United Kingdom   \n",
       "98606      Foula Airfield                   GB  United Kingdom   \n",
       "\n",
       "      Airport Continent Continents Departure Date Arrival Airport  \\\n",
       "6                    EU     Europe     10/30/2022             QFO   \n",
       "116                  EU     Europe      3/17/2022             NCL   \n",
       "236                  EU     Europe      8/27/2022             LYE   \n",
       "261                  EU     Europe      7/28/2022             QUY   \n",
       "335                  EU     Europe      6/21/2022             CVT   \n",
       "...                 ...        ...            ...             ...   \n",
       "98341                EU     Europe      12/3/2022             NQT   \n",
       "98422                EU     Europe      5/14/2022             GSY   \n",
       "98444                EU     Europe     10/22/2022             BEX   \n",
       "98576                EU     Europe       4/4/2022             SQZ   \n",
       "98606                EU     Europe      8/31/2022             FOA   \n",
       "\n",
       "              Pilot Name Flight Status  \n",
       "6              Rand Bram     Cancelled  \n",
       "116      Reinaldo Caines       On Time  \n",
       "236     Fernando Stuckes     Cancelled  \n",
       "261          Wilt Reames       On Time  \n",
       "335           Alaine Ace       On Time  \n",
       "...                  ...           ...  \n",
       "98341  Georges Bricknall       On Time  \n",
       "98422       Dore Sisnett     Cancelled  \n",
       "98444   Toiboid Spadazzi     Cancelled  \n",
       "98576    Clevey Lowdyane       On Time  \n",
       "98606     Jessa Bauldrey     Cancelled  \n",
       "\n",
       "[1371 rows x 15 columns]"
      ]
     },
     "execution_count": 16,
     "metadata": {},
     "output_type": "execute_result"
    }
   ],
   "source": [
    "df[df['Airport Country Code'] =='GB']"
   ]
  },
  {
   "cell_type": "code",
   "execution_count": 17,
   "id": "d1460627",
   "metadata": {
    "execution": {
     "iopub.execute_input": "2023-09-24T15:48:54.553598Z",
     "iopub.status.busy": "2023-09-24T15:48:54.552659Z",
     "iopub.status.idle": "2023-09-24T15:48:54.558386Z",
     "shell.execute_reply": "2023-09-24T15:48:54.557019Z"
    },
    "papermill": {
     "duration": 0.020657,
     "end_time": "2023-09-24T15:48:54.561136",
     "exception": false,
     "start_time": "2023-09-24T15:48:54.540479",
     "status": "completed"
    },
    "tags": []
   },
   "outputs": [],
   "source": [
    "drop_col.append('Airport Country Code')"
   ]
  },
  {
   "cell_type": "code",
   "execution_count": 18,
   "id": "5a887bf8",
   "metadata": {
    "execution": {
     "iopub.execute_input": "2023-09-24T15:48:54.585420Z",
     "iopub.status.busy": "2023-09-24T15:48:54.584670Z",
     "iopub.status.idle": "2023-09-24T15:48:54.637677Z",
     "shell.execute_reply": "2023-09-24T15:48:54.636723Z"
    },
    "papermill": {
     "duration": 0.067343,
     "end_time": "2023-09-24T15:48:54.639747",
     "exception": false,
     "start_time": "2023-09-24T15:48:54.572404",
     "status": "completed"
    },
    "tags": []
   },
   "outputs": [
    {
     "data": {
      "text/html": [
       "<div>\n",
       "<style scoped>\n",
       "    .dataframe tbody tr th:only-of-type {\n",
       "        vertical-align: middle;\n",
       "    }\n",
       "\n",
       "    .dataframe tbody tr th {\n",
       "        vertical-align: top;\n",
       "    }\n",
       "\n",
       "    .dataframe thead th {\n",
       "        text-align: right;\n",
       "    }\n",
       "</style>\n",
       "<table border=\"1\" class=\"dataframe\">\n",
       "  <thead>\n",
       "    <tr style=\"text-align: right;\">\n",
       "      <th></th>\n",
       "      <th>Passenger ID</th>\n",
       "      <th>First Name</th>\n",
       "      <th>Last Name</th>\n",
       "      <th>Gender</th>\n",
       "      <th>Age</th>\n",
       "      <th>Nationality</th>\n",
       "      <th>Airport Name</th>\n",
       "      <th>Airport Country Code</th>\n",
       "      <th>Country Name</th>\n",
       "      <th>Airport Continent</th>\n",
       "      <th>Continents</th>\n",
       "      <th>Departure Date</th>\n",
       "      <th>Arrival Airport</th>\n",
       "      <th>Pilot Name</th>\n",
       "      <th>Flight Status</th>\n",
       "    </tr>\n",
       "  </thead>\n",
       "  <tbody>\n",
       "    <tr>\n",
       "      <th>14</th>\n",
       "      <td>GUta6R</td>\n",
       "      <td>Amberly</td>\n",
       "      <td>Handling</td>\n",
       "      <td>Female</td>\n",
       "      <td>32</td>\n",
       "      <td>China</td>\n",
       "      <td>Farmington Regional Airport</td>\n",
       "      <td>US</td>\n",
       "      <td>United States</td>\n",
       "      <td>NAM</td>\n",
       "      <td>North America</td>\n",
       "      <td>3/7/2022</td>\n",
       "      <td>FAM</td>\n",
       "      <td>Amberly Handling</td>\n",
       "      <td>Delayed</td>\n",
       "    </tr>\n",
       "    <tr>\n",
       "      <th>49</th>\n",
       "      <td>kqtQSY</td>\n",
       "      <td>Chrotoem</td>\n",
       "      <td>Abels</td>\n",
       "      <td>Male</td>\n",
       "      <td>62</td>\n",
       "      <td>Russia</td>\n",
       "      <td>Port Lincoln Airport</td>\n",
       "      <td>AU</td>\n",
       "      <td>Australia</td>\n",
       "      <td>OC</td>\n",
       "      <td>Oceania</td>\n",
       "      <td>3/6/2022</td>\n",
       "      <td>PLO</td>\n",
       "      <td>Chrotoem Abels</td>\n",
       "      <td>On Time</td>\n",
       "    </tr>\n",
       "    <tr>\n",
       "      <th>52</th>\n",
       "      <td>fXol41</td>\n",
       "      <td>Tessy</td>\n",
       "      <td>Athelstan</td>\n",
       "      <td>Female</td>\n",
       "      <td>83</td>\n",
       "      <td>Sweden</td>\n",
       "      <td>Kenmore Air Harbor Seaplane Base</td>\n",
       "      <td>US</td>\n",
       "      <td>United States</td>\n",
       "      <td>NAM</td>\n",
       "      <td>North America</td>\n",
       "      <td>12/8/2022</td>\n",
       "      <td>LKE</td>\n",
       "      <td>Tessy Athelstan</td>\n",
       "      <td>On Time</td>\n",
       "    </tr>\n",
       "    <tr>\n",
       "      <th>62</th>\n",
       "      <td>2MwBUd</td>\n",
       "      <td>Lilli</td>\n",
       "      <td>Sarath</td>\n",
       "      <td>Female</td>\n",
       "      <td>87</td>\n",
       "      <td>Sweden</td>\n",
       "      <td>White Mountain Airport</td>\n",
       "      <td>US</td>\n",
       "      <td>United States</td>\n",
       "      <td>NAM</td>\n",
       "      <td>North America</td>\n",
       "      <td>7/20/2022</td>\n",
       "      <td>WMO</td>\n",
       "      <td>Lilli Sarath</td>\n",
       "      <td>Delayed</td>\n",
       "    </tr>\n",
       "    <tr>\n",
       "      <th>71</th>\n",
       "      <td>udSiKS</td>\n",
       "      <td>Fidelio</td>\n",
       "      <td>Guerry</td>\n",
       "      <td>Male</td>\n",
       "      <td>3</td>\n",
       "      <td>China</td>\n",
       "      <td>Yuruf Airport</td>\n",
       "      <td>ID</td>\n",
       "      <td>Indonesia</td>\n",
       "      <td>AS</td>\n",
       "      <td>Asia</td>\n",
       "      <td>5/2/2022</td>\n",
       "      <td>RUF</td>\n",
       "      <td>Fidelio Guerry</td>\n",
       "      <td>Delayed</td>\n",
       "    </tr>\n",
       "    <tr>\n",
       "      <th>...</th>\n",
       "      <td>...</td>\n",
       "      <td>...</td>\n",
       "      <td>...</td>\n",
       "      <td>...</td>\n",
       "      <td>...</td>\n",
       "      <td>...</td>\n",
       "      <td>...</td>\n",
       "      <td>...</td>\n",
       "      <td>...</td>\n",
       "      <td>...</td>\n",
       "      <td>...</td>\n",
       "      <td>...</td>\n",
       "      <td>...</td>\n",
       "      <td>...</td>\n",
       "      <td>...</td>\n",
       "    </tr>\n",
       "    <tr>\n",
       "      <th>98614</th>\n",
       "      <td>hnGQ62</td>\n",
       "      <td>Gareth</td>\n",
       "      <td>Mugford</td>\n",
       "      <td>Male</td>\n",
       "      <td>85</td>\n",
       "      <td>China</td>\n",
       "      <td>Hasvik Airport</td>\n",
       "      <td>NO</td>\n",
       "      <td>Norway</td>\n",
       "      <td>EU</td>\n",
       "      <td>Europe</td>\n",
       "      <td>12/11/2022</td>\n",
       "      <td>HAA</td>\n",
       "      <td>Gareth Mugford</td>\n",
       "      <td>Cancelled</td>\n",
       "    </tr>\n",
       "    <tr>\n",
       "      <th>98615</th>\n",
       "      <td>2omEzh</td>\n",
       "      <td>Kasey</td>\n",
       "      <td>Benedict</td>\n",
       "      <td>Female</td>\n",
       "      <td>19</td>\n",
       "      <td>Russia</td>\n",
       "      <td>Ampampamena Airport</td>\n",
       "      <td>MG</td>\n",
       "      <td>Madagascar</td>\n",
       "      <td>AF</td>\n",
       "      <td>Africa</td>\n",
       "      <td>10/30/2022</td>\n",
       "      <td>IVA</td>\n",
       "      <td>Kasey Benedict</td>\n",
       "      <td>Cancelled</td>\n",
       "    </tr>\n",
       "    <tr>\n",
       "      <th>98616</th>\n",
       "      <td>VUPiVG</td>\n",
       "      <td>Darrin</td>\n",
       "      <td>Lucken</td>\n",
       "      <td>Male</td>\n",
       "      <td>65</td>\n",
       "      <td>Indonesia</td>\n",
       "      <td>Albacete-Los Llanos Airport</td>\n",
       "      <td>ES</td>\n",
       "      <td>Spain</td>\n",
       "      <td>EU</td>\n",
       "      <td>Europe</td>\n",
       "      <td>9/10/2022</td>\n",
       "      <td>ABC</td>\n",
       "      <td>Darrin Lucken</td>\n",
       "      <td>On Time</td>\n",
       "    </tr>\n",
       "    <tr>\n",
       "      <th>98617</th>\n",
       "      <td>E47NtS</td>\n",
       "      <td>Gayle</td>\n",
       "      <td>Lievesley</td>\n",
       "      <td>Female</td>\n",
       "      <td>34</td>\n",
       "      <td>China</td>\n",
       "      <td>Gagnoa Airport</td>\n",
       "      <td>CI</td>\n",
       "      <td>Côte d'Ivoire</td>\n",
       "      <td>AF</td>\n",
       "      <td>Africa</td>\n",
       "      <td>10/26/2022</td>\n",
       "      <td>GGN</td>\n",
       "      <td>Gayle Lievesley</td>\n",
       "      <td>Cancelled</td>\n",
       "    </tr>\n",
       "    <tr>\n",
       "      <th>98618</th>\n",
       "      <td>8JYEcz</td>\n",
       "      <td>Wilhelmine</td>\n",
       "      <td>Touret</td>\n",
       "      <td>Female</td>\n",
       "      <td>10</td>\n",
       "      <td>Poland</td>\n",
       "      <td>Yoshkar-Ola Airport</td>\n",
       "      <td>RU</td>\n",
       "      <td>Russian Federation</td>\n",
       "      <td>EU</td>\n",
       "      <td>Europe</td>\n",
       "      <td>4/16/2022</td>\n",
       "      <td>JOK</td>\n",
       "      <td>Wilhelmine Touret</td>\n",
       "      <td>Delayed</td>\n",
       "    </tr>\n",
       "  </tbody>\n",
       "</table>\n",
       "<p>86124 rows × 15 columns</p>\n",
       "</div>"
      ],
      "text/plain": [
       "      Passenger ID  First Name  Last Name  Gender  Age Nationality  \\\n",
       "14          GUta6R     Amberly   Handling  Female   32       China   \n",
       "49          kqtQSY    Chrotoem      Abels    Male   62      Russia   \n",
       "52          fXol41       Tessy  Athelstan  Female   83      Sweden   \n",
       "62          2MwBUd       Lilli     Sarath  Female   87      Sweden   \n",
       "71          udSiKS     Fidelio     Guerry    Male    3       China   \n",
       "...            ...         ...        ...     ...  ...         ...   \n",
       "98614       hnGQ62      Gareth    Mugford    Male   85       China   \n",
       "98615       2omEzh       Kasey   Benedict  Female   19      Russia   \n",
       "98616       VUPiVG      Darrin     Lucken    Male   65   Indonesia   \n",
       "98617       E47NtS       Gayle  Lievesley  Female   34       China   \n",
       "98618       8JYEcz  Wilhelmine     Touret  Female   10      Poland   \n",
       "\n",
       "                           Airport Name Airport Country Code  \\\n",
       "14          Farmington Regional Airport                   US   \n",
       "49                 Port Lincoln Airport                   AU   \n",
       "52     Kenmore Air Harbor Seaplane Base                   US   \n",
       "62               White Mountain Airport                   US   \n",
       "71                        Yuruf Airport                   ID   \n",
       "...                                 ...                  ...   \n",
       "98614                    Hasvik Airport                   NO   \n",
       "98615               Ampampamena Airport                   MG   \n",
       "98616       Albacete-Los Llanos Airport                   ES   \n",
       "98617                    Gagnoa Airport                   CI   \n",
       "98618               Yoshkar-Ola Airport                   RU   \n",
       "\n",
       "             Country Name Airport Continent     Continents Departure Date  \\\n",
       "14          United States               NAM  North America       3/7/2022   \n",
       "49              Australia                OC        Oceania       3/6/2022   \n",
       "52          United States               NAM  North America      12/8/2022   \n",
       "62          United States               NAM  North America      7/20/2022   \n",
       "71              Indonesia                AS           Asia       5/2/2022   \n",
       "...                   ...               ...            ...            ...   \n",
       "98614              Norway                EU         Europe     12/11/2022   \n",
       "98615          Madagascar                AF         Africa     10/30/2022   \n",
       "98616               Spain                EU         Europe      9/10/2022   \n",
       "98617       Côte d'Ivoire                AF         Africa     10/26/2022   \n",
       "98618  Russian Federation                EU         Europe      4/16/2022   \n",
       "\n",
       "      Arrival Airport         Pilot Name Flight Status  \n",
       "14                FAM   Amberly Handling       Delayed  \n",
       "49                PLO     Chrotoem Abels       On Time  \n",
       "52                LKE    Tessy Athelstan       On Time  \n",
       "62                WMO       Lilli Sarath       Delayed  \n",
       "71                RUF     Fidelio Guerry       Delayed  \n",
       "...               ...                ...           ...  \n",
       "98614             HAA     Gareth Mugford     Cancelled  \n",
       "98615             IVA     Kasey Benedict     Cancelled  \n",
       "98616             ABC      Darrin Lucken       On Time  \n",
       "98617             GGN    Gayle Lievesley     Cancelled  \n",
       "98618             JOK  Wilhelmine Touret       Delayed  \n",
       "\n",
       "[86124 rows x 15 columns]"
      ]
     },
     "execution_count": 18,
     "metadata": {},
     "output_type": "execute_result"
    }
   ],
   "source": [
    "df[df[['Nationality', 'Country Name']].duplicated()]"
   ]
  },
  {
   "cell_type": "code",
   "execution_count": 19,
   "id": "ec092d98",
   "metadata": {
    "execution": {
     "iopub.execute_input": "2023-09-24T15:48:54.663363Z",
     "iopub.status.busy": "2023-09-24T15:48:54.662781Z",
     "iopub.status.idle": "2023-09-24T15:48:54.667410Z",
     "shell.execute_reply": "2023-09-24T15:48:54.666449Z"
    },
    "papermill": {
     "duration": 0.018259,
     "end_time": "2023-09-24T15:48:54.669119",
     "exception": false,
     "start_time": "2023-09-24T15:48:54.650860",
     "status": "completed"
    },
    "tags": []
   },
   "outputs": [],
   "source": [
    "drop_col.append('Arrival Airport')"
   ]
  },
  {
   "cell_type": "code",
   "execution_count": 20,
   "id": "20950f5d",
   "metadata": {
    "execution": {
     "iopub.execute_input": "2023-09-24T15:48:54.693304Z",
     "iopub.status.busy": "2023-09-24T15:48:54.692431Z",
     "iopub.status.idle": "2023-09-24T15:48:54.703087Z",
     "shell.execute_reply": "2023-09-24T15:48:54.702163Z"
    },
    "papermill": {
     "duration": 0.024909,
     "end_time": "2023-09-24T15:48:54.705217",
     "exception": false,
     "start_time": "2023-09-24T15:48:54.680308",
     "status": "completed"
    },
    "tags": []
   },
   "outputs": [],
   "source": [
    "df_filtered = df.drop(['Passenger ID', 'First Name', 'Last Name', 'Pilot Name', 'Airport Name'] + drop_col, axis=1)"
   ]
  },
  {
   "cell_type": "code",
   "execution_count": 21,
   "id": "cd4921ed",
   "metadata": {
    "execution": {
     "iopub.execute_input": "2023-09-24T15:48:54.729021Z",
     "iopub.status.busy": "2023-09-24T15:48:54.728639Z",
     "iopub.status.idle": "2023-09-24T15:48:54.743183Z",
     "shell.execute_reply": "2023-09-24T15:48:54.742303Z"
    },
    "papermill": {
     "duration": 0.028836,
     "end_time": "2023-09-24T15:48:54.745353",
     "exception": false,
     "start_time": "2023-09-24T15:48:54.716517",
     "status": "completed"
    },
    "tags": []
   },
   "outputs": [
    {
     "data": {
      "text/html": [
       "<div>\n",
       "<style scoped>\n",
       "    .dataframe tbody tr th:only-of-type {\n",
       "        vertical-align: middle;\n",
       "    }\n",
       "\n",
       "    .dataframe tbody tr th {\n",
       "        vertical-align: top;\n",
       "    }\n",
       "\n",
       "    .dataframe thead th {\n",
       "        text-align: right;\n",
       "    }\n",
       "</style>\n",
       "<table border=\"1\" class=\"dataframe\">\n",
       "  <thead>\n",
       "    <tr style=\"text-align: right;\">\n",
       "      <th></th>\n",
       "      <th>Gender</th>\n",
       "      <th>Age</th>\n",
       "      <th>Nationality</th>\n",
       "      <th>Country Name</th>\n",
       "      <th>Continents</th>\n",
       "      <th>Departure Date</th>\n",
       "      <th>Flight Status</th>\n",
       "    </tr>\n",
       "  </thead>\n",
       "  <tbody>\n",
       "    <tr>\n",
       "      <th>90420</th>\n",
       "      <td>Male</td>\n",
       "      <td>30</td>\n",
       "      <td>Gambia</td>\n",
       "      <td>Brazil</td>\n",
       "      <td>South America</td>\n",
       "      <td>2/24/2022</td>\n",
       "      <td>Cancelled</td>\n",
       "    </tr>\n",
       "    <tr>\n",
       "      <th>2258</th>\n",
       "      <td>Male</td>\n",
       "      <td>35</td>\n",
       "      <td>France</td>\n",
       "      <td>Papua New Guinea</td>\n",
       "      <td>Oceania</td>\n",
       "      <td>7/26/2022</td>\n",
       "      <td>On Time</td>\n",
       "    </tr>\n",
       "    <tr>\n",
       "      <th>18483</th>\n",
       "      <td>Male</td>\n",
       "      <td>57</td>\n",
       "      <td>Sudan</td>\n",
       "      <td>Egypt</td>\n",
       "      <td>Africa</td>\n",
       "      <td>8/6/2022</td>\n",
       "      <td>Cancelled</td>\n",
       "    </tr>\n",
       "    <tr>\n",
       "      <th>27749</th>\n",
       "      <td>Male</td>\n",
       "      <td>45</td>\n",
       "      <td>Russia</td>\n",
       "      <td>Germany</td>\n",
       "      <td>Europe</td>\n",
       "      <td>6/19/2022</td>\n",
       "      <td>Cancelled</td>\n",
       "    </tr>\n",
       "    <tr>\n",
       "      <th>12772</th>\n",
       "      <td>Female</td>\n",
       "      <td>75</td>\n",
       "      <td>Colombia</td>\n",
       "      <td>Norway</td>\n",
       "      <td>Europe</td>\n",
       "      <td>5/30/2022</td>\n",
       "      <td>Delayed</td>\n",
       "    </tr>\n",
       "  </tbody>\n",
       "</table>\n",
       "</div>"
      ],
      "text/plain": [
       "       Gender  Age Nationality      Country Name     Continents  \\\n",
       "90420    Male   30      Gambia            Brazil  South America   \n",
       "2258     Male   35      France  Papua New Guinea        Oceania   \n",
       "18483    Male   57       Sudan             Egypt         Africa   \n",
       "27749    Male   45      Russia           Germany         Europe   \n",
       "12772  Female   75    Colombia            Norway         Europe   \n",
       "\n",
       "      Departure Date Flight Status  \n",
       "90420      2/24/2022     Cancelled  \n",
       "2258       7/26/2022       On Time  \n",
       "18483       8/6/2022     Cancelled  \n",
       "27749      6/19/2022     Cancelled  \n",
       "12772      5/30/2022       Delayed  "
      ]
     },
     "execution_count": 21,
     "metadata": {},
     "output_type": "execute_result"
    }
   ],
   "source": [
    "df_filtered.sample(5)"
   ]
  },
  {
   "cell_type": "code",
   "execution_count": 22,
   "id": "ea347817",
   "metadata": {
    "execution": {
     "iopub.execute_input": "2023-09-24T15:48:54.770715Z",
     "iopub.status.busy": "2023-09-24T15:48:54.770128Z",
     "iopub.status.idle": "2023-09-24T15:48:54.774858Z",
     "shell.execute_reply": "2023-09-24T15:48:54.774265Z"
    },
    "papermill": {
     "duration": 0.019536,
     "end_time": "2023-09-24T15:48:54.776841",
     "exception": false,
     "start_time": "2023-09-24T15:48:54.757305",
     "status": "completed"
    },
    "tags": []
   },
   "outputs": [
    {
     "name": "stdout",
     "output_type": "stream",
     "text": [
      "Shape DataFrame Before Drop Columns: (98619, 15)\n",
      "Shape DataFrame After Drop Columns: (98619, 7)\n"
     ]
    }
   ],
   "source": [
    "print(f'Shape DataFrame Before Drop Columns: {df.shape}')\n",
    "print(f'Shape DataFrame After Drop Columns: {df_filtered.shape}')"
   ]
  },
  {
   "cell_type": "markdown",
   "id": "60852d92",
   "metadata": {
    "papermill": {
     "duration": 0.011134,
     "end_time": "2023-09-24T15:48:54.799804",
     "exception": false,
     "start_time": "2023-09-24T15:48:54.788670",
     "status": "completed"
    },
    "tags": []
   },
   "source": [
    "# Describe Data "
   ]
  },
  {
   "cell_type": "code",
   "execution_count": 23,
   "id": "f3ab0d41",
   "metadata": {
    "execution": {
     "iopub.execute_input": "2023-09-24T15:48:54.824128Z",
     "iopub.status.busy": "2023-09-24T15:48:54.823185Z",
     "iopub.status.idle": "2023-09-24T15:48:54.843835Z",
     "shell.execute_reply": "2023-09-24T15:48:54.842923Z"
    },
    "papermill": {
     "duration": 0.034808,
     "end_time": "2023-09-24T15:48:54.845892",
     "exception": false,
     "start_time": "2023-09-24T15:48:54.811084",
     "status": "completed"
    },
    "tags": []
   },
   "outputs": [
    {
     "data": {
      "text/html": [
       "<div>\n",
       "<style scoped>\n",
       "    .dataframe tbody tr th:only-of-type {\n",
       "        vertical-align: middle;\n",
       "    }\n",
       "\n",
       "    .dataframe tbody tr th {\n",
       "        vertical-align: top;\n",
       "    }\n",
       "\n",
       "    .dataframe thead th {\n",
       "        text-align: right;\n",
       "    }\n",
       "</style>\n",
       "<table border=\"1\" class=\"dataframe\">\n",
       "  <thead>\n",
       "    <tr style=\"text-align: right;\">\n",
       "      <th></th>\n",
       "      <th>Age</th>\n",
       "    </tr>\n",
       "  </thead>\n",
       "  <tbody>\n",
       "    <tr>\n",
       "      <th>count</th>\n",
       "      <td>98619.000000</td>\n",
       "    </tr>\n",
       "    <tr>\n",
       "      <th>mean</th>\n",
       "      <td>45.504021</td>\n",
       "    </tr>\n",
       "    <tr>\n",
       "      <th>std</th>\n",
       "      <td>25.929849</td>\n",
       "    </tr>\n",
       "    <tr>\n",
       "      <th>min</th>\n",
       "      <td>1.000000</td>\n",
       "    </tr>\n",
       "    <tr>\n",
       "      <th>25%</th>\n",
       "      <td>23.000000</td>\n",
       "    </tr>\n",
       "    <tr>\n",
       "      <th>50%</th>\n",
       "      <td>46.000000</td>\n",
       "    </tr>\n",
       "    <tr>\n",
       "      <th>75%</th>\n",
       "      <td>68.000000</td>\n",
       "    </tr>\n",
       "    <tr>\n",
       "      <th>max</th>\n",
       "      <td>90.000000</td>\n",
       "    </tr>\n",
       "  </tbody>\n",
       "</table>\n",
       "</div>"
      ],
      "text/plain": [
       "                Age\n",
       "count  98619.000000\n",
       "mean      45.504021\n",
       "std       25.929849\n",
       "min        1.000000\n",
       "25%       23.000000\n",
       "50%       46.000000\n",
       "75%       68.000000\n",
       "max       90.000000"
      ]
     },
     "execution_count": 23,
     "metadata": {},
     "output_type": "execute_result"
    }
   ],
   "source": [
    "df_filtered.describe()"
   ]
  },
  {
   "cell_type": "code",
   "execution_count": 24,
   "id": "8b92c7c7",
   "metadata": {
    "execution": {
     "iopub.execute_input": "2023-09-24T15:48:54.870858Z",
     "iopub.status.busy": "2023-09-24T15:48:54.870460Z",
     "iopub.status.idle": "2023-09-24T15:48:54.939263Z",
     "shell.execute_reply": "2023-09-24T15:48:54.938121Z"
    },
    "papermill": {
     "duration": 0.084657,
     "end_time": "2023-09-24T15:48:54.942258",
     "exception": false,
     "start_time": "2023-09-24T15:48:54.857601",
     "status": "completed"
    },
    "tags": []
   },
   "outputs": [
    {
     "data": {
      "text/html": [
       "<div>\n",
       "<style scoped>\n",
       "    .dataframe tbody tr th:only-of-type {\n",
       "        vertical-align: middle;\n",
       "    }\n",
       "\n",
       "    .dataframe tbody tr th {\n",
       "        vertical-align: top;\n",
       "    }\n",
       "\n",
       "    .dataframe thead th {\n",
       "        text-align: right;\n",
       "    }\n",
       "</style>\n",
       "<table border=\"1\" class=\"dataframe\">\n",
       "  <thead>\n",
       "    <tr style=\"text-align: right;\">\n",
       "      <th></th>\n",
       "      <th>Gender</th>\n",
       "      <th>Nationality</th>\n",
       "      <th>Country Name</th>\n",
       "      <th>Continents</th>\n",
       "      <th>Departure Date</th>\n",
       "      <th>Flight Status</th>\n",
       "    </tr>\n",
       "  </thead>\n",
       "  <tbody>\n",
       "    <tr>\n",
       "      <th>count</th>\n",
       "      <td>98619</td>\n",
       "      <td>98619</td>\n",
       "      <td>98619</td>\n",
       "      <td>98619</td>\n",
       "      <td>98619</td>\n",
       "      <td>98619</td>\n",
       "    </tr>\n",
       "    <tr>\n",
       "      <th>unique</th>\n",
       "      <td>2</td>\n",
       "      <td>240</td>\n",
       "      <td>235</td>\n",
       "      <td>6</td>\n",
       "      <td>364</td>\n",
       "      <td>3</td>\n",
       "    </tr>\n",
       "    <tr>\n",
       "      <th>top</th>\n",
       "      <td>Male</td>\n",
       "      <td>China</td>\n",
       "      <td>United States</td>\n",
       "      <td>North America</td>\n",
       "      <td>7/22/2022</td>\n",
       "      <td>Cancelled</td>\n",
       "    </tr>\n",
       "    <tr>\n",
       "      <th>freq</th>\n",
       "      <td>49598</td>\n",
       "      <td>18317</td>\n",
       "      <td>22104</td>\n",
       "      <td>32033</td>\n",
       "      <td>325</td>\n",
       "      <td>32942</td>\n",
       "    </tr>\n",
       "  </tbody>\n",
       "</table>\n",
       "</div>"
      ],
      "text/plain": [
       "       Gender Nationality   Country Name     Continents Departure Date  \\\n",
       "count   98619       98619          98619          98619          98619   \n",
       "unique      2         240            235              6            364   \n",
       "top      Male       China  United States  North America      7/22/2022   \n",
       "freq    49598       18317          22104          32033            325   \n",
       "\n",
       "       Flight Status  \n",
       "count          98619  \n",
       "unique             3  \n",
       "top        Cancelled  \n",
       "freq           32942  "
      ]
     },
     "execution_count": 24,
     "metadata": {},
     "output_type": "execute_result"
    }
   ],
   "source": [
    "df_filtered.describe(include='object')"
   ]
  },
  {
   "cell_type": "markdown",
   "id": "52e0d1c7",
   "metadata": {
    "papermill": {
     "duration": 0.01111,
     "end_time": "2023-09-24T15:48:54.965176",
     "exception": false,
     "start_time": "2023-09-24T15:48:54.954066",
     "status": "completed"
    },
    "tags": []
   },
   "source": [
    "# EDA"
   ]
  },
  {
   "cell_type": "markdown",
   "id": "580c2f57",
   "metadata": {
    "papermill": {
     "duration": 0.011255,
     "end_time": "2023-09-24T15:48:54.987944",
     "exception": false,
     "start_time": "2023-09-24T15:48:54.976689",
     "status": "completed"
    },
    "tags": []
   },
   "source": [
    "# Age Distribution"
   ]
  },
  {
   "cell_type": "code",
   "execution_count": 25,
   "id": "bfaf3a66",
   "metadata": {
    "execution": {
     "iopub.execute_input": "2023-09-24T15:48:55.012907Z",
     "iopub.status.busy": "2023-09-24T15:48:55.012347Z",
     "iopub.status.idle": "2023-09-24T15:48:55.677004Z",
     "shell.execute_reply": "2023-09-24T15:48:55.675580Z"
    },
    "papermill": {
     "duration": 0.679928,
     "end_time": "2023-09-24T15:48:55.679575",
     "exception": false,
     "start_time": "2023-09-24T15:48:54.999647",
     "status": "completed"
    },
    "tags": []
   },
   "outputs": [
    {
     "data": {
      "image/png": "[encoded data removed]",
      "text/plain": [
       "<Figure size 800x600 with 1 Axes>"
      ]
     },
     "metadata": {},
     "output_type": "display_data"
    }
   ],
   "source": [
    "mean_age = df_filtered['Age'].mean()\n",
    "median_age = df_filtered['Age'].median()\n",
    "\n",
    "plt.figure(figsize=(8, 6))\n",
    "sns.histplot(df_filtered['Age'], color='lightblue', kde=True)\n",
    "\n",
    "plt.axvline(median_age, color='red', linestyle='dashed', linewidth=2, label=f'Median: {median_age}')\n",
    "plt.axvline(mean_age, color='black', linestyle='dashed', linewidth=2, label=f'Mean: {mean_age}')\n",
    "\n",
    "plt.xlabel('Age')\n",
    "plt.ylabel('Frequency')\n",
    "plt.title('Age Histogram (Auto-generated Bins)')\n",
    "plt.legend()\n",
    "#plt.grid(True)  # You can uncomment this line to add grid lines if needed\n",
    "plt.show()"
   ]
  },
  {
   "cell_type": "markdown",
   "id": "eb156596",
   "metadata": {
    "papermill": {
     "duration": 0.012717,
     "end_time": "2023-09-24T15:48:55.705845",
     "exception": false,
     "start_time": "2023-09-24T15:48:55.693128",
     "status": "completed"
    },
    "tags": []
   },
   "source": [
    "# Box Plot with Age "
   ]
  },
  {
   "cell_type": "code",
   "execution_count": 26,
   "id": "c996aa2e",
   "metadata": {
    "execution": {
     "iopub.execute_input": "2023-09-24T15:48:55.733005Z",
     "iopub.status.busy": "2023-09-24T15:48:55.732650Z",
     "iopub.status.idle": "2023-09-24T15:48:55.916045Z",
     "shell.execute_reply": "2023-09-24T15:48:55.914935Z"
    },
    "papermill": {
     "duration": 0.199805,
     "end_time": "2023-09-24T15:48:55.918486",
     "exception": false,
     "start_time": "2023-09-24T15:48:55.718681",
     "status": "completed"
    },
    "tags": []
   },
   "outputs": [
    {
     "data": {
      "image/png": "[encoded data removed]",
      "text/plain": [
       "<Figure size 800x600 with 1 Axes>"
      ]
     },
     "metadata": {},
     "output_type": "display_data"
    }
   ],
   "source": [
    "mean_age = df_filtered['Age'].mean()\n",
    "median_age = df_filtered['Age'].median()\n",
    "\n",
    "plt.figure(figsize=(8, 6))\n",
    "\n",
    "plt.boxplot(df['Age'], vert=False, patch_artist=True, boxprops={'facecolor': 'lightblue'}, flierprops={'marker': 'o', 'markerfacecolor': 'red', 'markeredgecolor': 'red'})\n",
    "plt.axvline(median_age, color='red', linestyle='dashed', linewidth=2, label=f'Median: {median_age}')\n",
    "plt.axvline(mean_age, color='k', linestyle='dashed', linewidth=2, label=f'Median: {mean_age}')\n",
    "\n",
    "plt.xlabel('Age')\n",
    "#plt.ylabel('Frequency')\n",
    "plt.title('Box Plot with outliers')\n",
    "plt.legend()\n",
    "plt.grid(True)\n",
    "plt.show()"
   ]
  },
  {
   "cell_type": "markdown",
   "id": "b24529d0",
   "metadata": {
    "papermill": {
     "duration": 0.012541,
     "end_time": "2023-09-24T15:48:55.944532",
     "exception": false,
     "start_time": "2023-09-24T15:48:55.931991",
     "status": "completed"
    },
    "tags": []
   },
   "source": [
    "# Gender Distribution"
   ]
  },
  {
   "cell_type": "code",
   "execution_count": 27,
   "id": "a6e42370",
   "metadata": {
    "execution": {
     "iopub.execute_input": "2023-09-24T15:48:55.972851Z",
     "iopub.status.busy": "2023-09-24T15:48:55.971795Z",
     "iopub.status.idle": "2023-09-24T15:48:56.084625Z",
     "shell.execute_reply": "2023-09-24T15:48:56.083867Z"
    },
    "papermill": {
     "duration": 0.129034,
     "end_time": "2023-09-24T15:48:56.086529",
     "exception": false,
     "start_time": "2023-09-24T15:48:55.957495",
     "status": "completed"
    },
    "tags": []
   },
   "outputs": [
    {
     "data": {
      "text/plain": [
       "<Figure size 800x600 with 0 Axes>"
      ]
     },
     "metadata": {},
     "output_type": "display_data"
    },
    {
     "data": {
      "image/png": "[encoded data removed]",
      "text/plain": [
       "<Figure size 600x600 with 1 Axes>"
      ]
     },
     "metadata": {},
     "output_type": "display_data"
    }
   ],
   "source": [
    "plt.figure(figsize=(8, 6))\n",
    "\n",
    "gender_counts = df_filtered['Gender'].value_counts()\n",
    "\n",
    "# Create a pie chart\n",
    "plt.figure(figsize=(6, 6))\n",
    "plt.pie(gender_counts, labels=gender_counts.index, autopct='%1.1f%%', startangle=90)\n",
    "plt.title('Gender of Distribution')\n",
    "plt.show()"
   ]
  },
  {
   "cell_type": "markdown",
   "id": "8218634f",
   "metadata": {
    "papermill": {
     "duration": 0.016486,
     "end_time": "2023-09-24T15:48:56.119434",
     "exception": false,
     "start_time": "2023-09-24T15:48:56.102948",
     "status": "completed"
    },
    "tags": []
   },
   "source": [
    "# Distribution of Nationalities"
   ]
  },
  {
   "cell_type": "code",
   "execution_count": 28,
   "id": "a5be9eb9",
   "metadata": {
    "execution": {
     "iopub.execute_input": "2023-09-24T15:48:56.155689Z",
     "iopub.status.busy": "2023-09-24T15:48:56.154957Z",
     "iopub.status.idle": "2023-09-24T15:48:56.408996Z",
     "shell.execute_reply": "2023-09-24T15:48:56.407460Z"
    },
    "papermill": {
     "duration": 0.275449,
     "end_time": "2023-09-24T15:48:56.411738",
     "exception": false,
     "start_time": "2023-09-24T15:48:56.136289",
     "status": "completed"
    },
    "tags": []
   },
   "outputs": [
    {
     "data": {
      "text/plain": [
       "<Figure size 800x600 with 0 Axes>"
      ]
     },
     "metadata": {},
     "output_type": "display_data"
    },
    {
     "data": {
      "image/png": "[encoded data removed]",
      "text/plain": [
       "<Figure size 1200x600 with 1 Axes>"
      ]
     },
     "metadata": {},
     "output_type": "display_data"
    }
   ],
   "source": [
    "plt.figure(figsize=(8, 6))\n",
    "\n",
    "# Create a count plot\n",
    "plt.figure(figsize=(12, 6))  # Adjust the figure size if needed\n",
    "sns.countplot(data=df_filtered, x='Continents')\n",
    "\n",
    "plt.xlabel('Nationality')\n",
    "plt.ylabel('Count')\n",
    "plt.title('Distribution of Nationalities')\n",
    "#plt.xticks(rotation=0)  # Rotate x-axis labels for better readability if needed\n",
    "\n",
    "plt.show()"
   ]
  },
  {
   "cell_type": "markdown",
   "id": "1bb046fe",
   "metadata": {
    "papermill": {
     "duration": 0.012661,
     "end_time": "2023-09-24T15:48:56.438109",
     "exception": false,
     "start_time": "2023-09-24T15:48:56.425448",
     "status": "completed"
    },
    "tags": []
   },
   "source": [
    "# Distribution of Flight Status"
   ]
  },
  {
   "cell_type": "code",
   "execution_count": 29,
   "id": "e01e46f2",
   "metadata": {
    "execution": {
     "iopub.execute_input": "2023-09-24T15:48:56.467536Z",
     "iopub.status.busy": "2023-09-24T15:48:56.466935Z",
     "iopub.status.idle": "2023-09-24T15:48:56.692889Z",
     "shell.execute_reply": "2023-09-24T15:48:56.691626Z"
    },
    "papermill": {
     "duration": 0.243705,
     "end_time": "2023-09-24T15:48:56.694880",
     "exception": false,
     "start_time": "2023-09-24T15:48:56.451175",
     "status": "completed"
    },
    "tags": []
   },
   "outputs": [
    {
     "data": {
      "text/plain": [
       "<Figure size 800x600 with 0 Axes>"
      ]
     },
     "metadata": {},
     "output_type": "display_data"
    },
    {
     "data": {
      "image/png": "[encoded data removed]",
      "text/plain": [
       "<Figure size 1200x600 with 1 Axes>"
      ]
     },
     "metadata": {},
     "output_type": "display_data"
    }
   ],
   "source": [
    "plt.figure(figsize=(8, 6))\n",
    "\n",
    "# Create a count plot\n",
    "plt.figure(figsize=(12, 6))  # Adjust the figure size if needed\n",
    "sns.countplot(data=df_filtered, x='Flight Status')\n",
    "\n",
    "plt.xlabel('Flight Status')\n",
    "plt.ylabel('Count')\n",
    "plt.title('Distribution of Flight Status')\n",
    "#plt.xticks(rotation=0)  # Rotate x-axis labels for better readability if needed\n",
    "\n",
    "plt.show()"
   ]
  },
  {
   "cell_type": "markdown",
   "id": "ef74fdbb",
   "metadata": {
    "papermill": {
     "duration": 0.014516,
     "end_time": "2023-09-24T15:48:56.723555",
     "exception": false,
     "start_time": "2023-09-24T15:48:56.709039",
     "status": "completed"
    },
    "tags": []
   },
   "source": [
    "# Flight Status Distribution"
   ]
  },
  {
   "cell_type": "code",
   "execution_count": 30,
   "id": "d7339afb",
   "metadata": {
    "execution": {
     "iopub.execute_input": "2023-09-24T15:48:56.754589Z",
     "iopub.status.busy": "2023-09-24T15:48:56.753915Z",
     "iopub.status.idle": "2023-09-24T15:48:56.867190Z",
     "shell.execute_reply": "2023-09-24T15:48:56.866027Z"
    },
    "papermill": {
     "duration": 0.131024,
     "end_time": "2023-09-24T15:48:56.869340",
     "exception": false,
     "start_time": "2023-09-24T15:48:56.738316",
     "status": "completed"
    },
    "tags": []
   },
   "outputs": [
    {
     "data": {
      "text/plain": [
       "<Figure size 800x600 with 0 Axes>"
      ]
     },
     "metadata": {},
     "output_type": "display_data"
    },
    {
     "data": {
      "image/png": "[encoded data removed]",
      "text/plain": [
       "<Figure size 600x600 with 1 Axes>"
      ]
     },
     "metadata": {},
     "output_type": "display_data"
    }
   ],
   "source": [
    "plt.figure(figsize=(8, 6))\n",
    "\n",
    "gender_counts = df['Flight Status'].value_counts()\n",
    "\n",
    "# Create a pie chart\n",
    "plt.figure(figsize=(6, 6))\n",
    "plt.pie(gender_counts, labels=gender_counts.index, autopct='%1.1f%%', startangle=90)\n",
    "plt.title('Flight Status of Distribution')\n",
    "plt.show()"
   ]
  },
  {
   "cell_type": "markdown",
   "id": "efe81daf",
   "metadata": {
    "papermill": {
     "duration": 0.013716,
     "end_time": "2023-09-24T15:48:56.898417",
     "exception": false,
     "start_time": "2023-09-24T15:48:56.884701",
     "status": "completed"
    },
    "tags": []
   },
   "source": [
    "# Distribution of Gender by Continents"
   ]
  },
  {
   "cell_type": "code",
   "execution_count": 31,
   "id": "25c95b9b",
   "metadata": {
    "execution": {
     "iopub.execute_input": "2023-09-24T15:48:56.928201Z",
     "iopub.status.busy": "2023-09-24T15:48:56.927595Z",
     "iopub.status.idle": "2023-09-24T15:48:57.228918Z",
     "shell.execute_reply": "2023-09-24T15:48:57.227329Z"
    },
    "papermill": {
     "duration": 0.318984,
     "end_time": "2023-09-24T15:48:57.231503",
     "exception": false,
     "start_time": "2023-09-24T15:48:56.912519",
     "status": "completed"
    },
    "tags": []
   },
   "outputs": [
    {
     "data": {
      "text/plain": [
       "<Figure size 800x600 with 0 Axes>"
      ]
     },
     "metadata": {},
     "output_type": "display_data"
    },
    {
     "data": {
      "image/png": "[encoded data removed]",
      "text/plain": [
       "<Figure size 1000x600 with 1 Axes>"
      ]
     },
     "metadata": {},
     "output_type": "display_data"
    }
   ],
   "source": [
    "plt.figure(figsize=(8, 6))\n",
    "\n",
    "# Create a horizontal bar plot with hue\n",
    "plt.figure(figsize=(10, 6))  # Adjust the figure size if needed\n",
    "sns.countplot(data=df_filtered, y='Continents', hue='Gender', orient='h')\n",
    "\n",
    "plt.ylabel('Continents')\n",
    "plt.xlabel('Frequcny')\n",
    "plt.title('Distribution of Gender by Continents')\n",
    "\n",
    "plt.show()"
   ]
  },
  {
   "cell_type": "markdown",
   "id": "c46d3b57",
   "metadata": {
    "papermill": {
     "duration": 0.014011,
     "end_time": "2023-09-24T15:48:57.259779",
     "exception": false,
     "start_time": "2023-09-24T15:48:57.245768",
     "status": "completed"
    },
    "tags": []
   },
   "source": [
    "# Distribution of Flight Status by Continents"
   ]
  },
  {
   "cell_type": "code",
   "execution_count": 32,
   "id": "06e775d5",
   "metadata": {
    "execution": {
     "iopub.execute_input": "2023-09-24T15:48:57.290951Z",
     "iopub.status.busy": "2023-09-24T15:48:57.290580Z",
     "iopub.status.idle": "2023-09-24T15:48:57.602767Z",
     "shell.execute_reply": "2023-09-24T15:48:57.601594Z"
    },
    "papermill": {
     "duration": 0.330203,
     "end_time": "2023-09-24T15:48:57.604846",
     "exception": false,
     "start_time": "2023-09-24T15:48:57.274643",
     "status": "completed"
    },
    "tags": []
   },
   "outputs": [
    {
     "data": {
      "text/plain": [
       "<Figure size 800x600 with 0 Axes>"
      ]
     },
     "metadata": {},
     "output_type": "display_data"
    },
    {
     "data": {
      "image/png": "[encoded data removed]",
      "text/plain": [
       "<Figure size 1000x600 with 1 Axes>"
      ]
     },
     "metadata": {},
     "output_type": "display_data"
    }
   ],
   "source": [
    "plt.figure(figsize=(8, 6))\n",
    "\n",
    "# Create a horizontal bar plot with hue\n",
    "plt.figure(figsize=(10, 6))  # Adjust the figure size if needed\n",
    "sns.countplot(data=df_filtered, y='Continents', hue='Flight Status', orient='h')\n",
    "\n",
    "plt.xlabel('Frequncy')\n",
    "plt.ylabel('Continents')\n",
    "plt.title('Distribution of Flight Status by Continents')\n",
    "\n",
    "plt.show()"
   ]
  },
  {
   "cell_type": "markdown",
   "id": "6d20d4f1",
   "metadata": {
    "papermill": {
     "duration": 0.015006,
     "end_time": "2023-09-24T15:48:57.635268",
     "exception": false,
     "start_time": "2023-09-24T15:48:57.620262",
     "status": "completed"
    },
    "tags": []
   },
   "source": [
    "# Distribution of Gender by Flight Status"
   ]
  },
  {
   "cell_type": "code",
   "execution_count": 33,
   "id": "0d1f8b2d",
   "metadata": {
    "execution": {
     "iopub.execute_input": "2023-09-24T15:48:57.667552Z",
     "iopub.status.busy": "2023-09-24T15:48:57.666818Z",
     "iopub.status.idle": "2023-09-24T15:48:57.951962Z",
     "shell.execute_reply": "2023-09-24T15:48:57.951023Z"
    },
    "papermill": {
     "duration": 0.303663,
     "end_time": "2023-09-24T15:48:57.953812",
     "exception": false,
     "start_time": "2023-09-24T15:48:57.650149",
     "status": "completed"
    },
    "tags": []
   },
   "outputs": [
    {
     "data": {
      "text/plain": [
       "<Figure size 800x600 with 0 Axes>"
      ]
     },
     "metadata": {},
     "output_type": "display_data"
    },
    {
     "data": {
      "image/png": "[encoded data removed]",
      "text/plain": [
       "<Figure size 1000x600 with 1 Axes>"
      ]
     },
     "metadata": {},
     "output_type": "display_data"
    }
   ],
   "source": [
    "plt.figure(figsize=(8, 6))\n",
    "\n",
    "# Create a horizontal bar plot with hue\n",
    "plt.figure(figsize=(10, 6))  # Adjust the figure size if needed\n",
    "sns.countplot(data=df_filtered, x='Flight Status', hue='Gender', orient='v')\n",
    "\n",
    "plt.xlabel('Flight Status')\n",
    "plt.ylabel('Frequncy')\n",
    "plt.title('Distribution of Gender by Flight Status')\n",
    "\n",
    "plt.show()"
   ]
  },
  {
   "cell_type": "code",
   "execution_count": null,
   "id": "4aa9136f",
   "metadata": {
    "papermill": {
     "duration": 0.015088,
     "end_time": "2023-09-24T15:48:57.984534",
     "exception": false,
     "start_time": "2023-09-24T15:48:57.969446",
     "status": "completed"
    },
    "tags": []
   },
   "outputs": [],
   "source": []
  }
 ],
 "metadata": {
  "kernelspec": {
   "display_name": "Python 3",
   "language": "python",
   "name": "python3"
  },
  "language_info": {
   "codemirror_mode": {
    "name": "ipython",
    "version": 3
   },
   "file_extension": ".py",
   "mimetype": "text/x-python",
   "name": "python",
   "nbconvert_exporter": "python",
   "pygments_lexer": "ipython3",
   "version": "3.10.12"
  },
  "papermill": {
   "default_parameters": {},
   "duration": 9.999541,
   "end_time": "2023-09-24T15:48:58.520448",
   "environment_variables": {},
   "exception": null,
   "input_path": "__notebook__.ipynb",
   "output_path": "__notebook__.ipynb",
   "parameters": {},
   "start_time": "2023-09-24T15:48:48.520907",
   "version": "2.4.0"
  }
 },
 "nbformat": 4,
 "nbformat_minor": 5
}
